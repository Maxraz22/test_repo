{
 "cells": [
  {
   "cell_type": "markdown",
   "id": "0f3934fb",
   "metadata": {},
   "source": [
    "# Умова задачі"
   ]
  },
  {
   "cell_type": "markdown",
   "id": "a63020b7",
   "metadata": {},
   "source": [
    "Є можливість вибрати спосіб виробництва і реалізації двох наборів товарів широкого вжитку. За даними відділу маркетингу, яким були проведені дослідження ринку, можливий прибуток від виробництва і реалізації Х і Y наведено в таблицях (Х, Y – прибуток у грошових одиницях):"
   ]
  },
  {
   "cell_type": "markdown",
   "id": "765e8b23",
   "metadata": {},
   "source": [
    "|  X   | 1000  | 1500  | 2000   |\n",
    "|:---  | :---: | :---: | :---:  |\n",
    "|  P   |  0,5  |  0,3  |  0,2   |"
   ]
  },
  {
   "cell_type": "markdown",
   "id": "4450713d",
   "metadata": {},
   "source": [
    "|  Y   | 1000  | 1500  | 1750   |\n",
    "|:---  | :---: | :---: | :---:  |\n",
    "|  P   |  0,4  |  0,4  |  0,2   |"
   ]
  },
  {
   "cell_type": "markdown",
   "id": "abbbb8f3",
   "metadata": {},
   "source": [
    "Потрібно оцінити ступінь ризику і запропонувати рішення щодо випуску і реалізації одного із наборів товарів."
   ]
  },
  {
   "cell_type": "markdown",
   "id": "6f152642",
   "metadata": {},
   "source": [
    "# Розв'язок"
   ]
  },
  {
   "cell_type": "markdown",
   "id": "58431ddd",
   "metadata": {},
   "source": [
    "Для оцінки ступіню ризику і прийняття рішення щодо випуску і реалізації одного із наборів товарів, необхідно визначити середньоквадратичне відхилення для випадкових величин X і Y за формулою $ \\sigma = \\sqrt{D} $, де $ D $ - це дисперсія."
   ]
  },
  {
   "cell_type": "markdown",
   "id": "6a5e1a3e",
   "metadata": {},
   "source": [
    "Для визначення дисперсії необхідно розрахувати математичне сподівання для випадкових величин $ X $ та $ Y $:"
   ]
  },
  {
   "cell_type": "markdown",
   "id": "09f202e1",
   "metadata": {},
   "source": [
    "$ M(X) = \\displaystyle\\sum_{i=1}^{3} x_i * p_i $"
   ]
  },
  {
   "cell_type": "markdown",
   "id": "7359867f",
   "metadata": {},
   "source": [
    "$ M(Y) = \\displaystyle\\sum_{i=1}^{3} y_i * p_i $"
   ]
  },
  {
   "cell_type": "markdown",
   "id": "2dd753d7",
   "metadata": {},
   "source": [
    "$ D(X) = M(X^2) - (M(X))^2 $"
   ]
  },
  {
   "cell_type": "markdown",
   "id": "526edf51",
   "metadata": {},
   "source": [
    "$ D(Y) = M(Y^2) - (M(Y))^2 $"
   ]
  },
  {
   "cell_type": "markdown",
   "id": "645fe394",
   "metadata": {},
   "source": [
    "$ \\sigma(X) = \\sqrt{D(X)} $"
   ]
  },
  {
   "cell_type": "markdown",
   "id": "812795e4",
   "metadata": {},
   "source": [
    "$ \\sigma(Y) = \\sqrt{D(Y)} $"
   ]
  },
  {
   "cell_type": "code",
   "execution_count": 5,
   "id": "6fe3c934",
   "metadata": {},
   "outputs": [
    {
     "name": "stdout",
     "output_type": "stream",
     "text": [
      "Середньоквадратичне відхилення випадкової величини X: 390.5\n",
      "Середньоквадратичне відхилення випадкової величини Y: 300.0\n"
     ]
    }
   ],
   "source": [
    "mx = 1000 * 0.5 + 1500 * 0.3 + 2000 * 0.2\n",
    "my = 1000 * 0.4 + 1500 * 0.4 + 1750 * 0.2\n",
    "dx = 1000**2 * 0.5 + 1500**2 * 0.3 + 2000**2 * 0.2 - mx**2\n",
    "dy = 1000**2 * 0.4 + 1500**2 * 0.4 + 1750**2 * 0.2 - my**2\n",
    "sx = dx**0.5\n",
    "sy = dy**0.5\n",
    "print(\"Середньоквадратичне відхилення випадкової величини X:\", round(sx, 1))\n",
    "print(\"Середньоквадратичне відхилення випадкової величини Y:\", round(sy, 1))"
   ]
  },
  {
   "cell_type": "markdown",
   "id": "8fd4198b",
   "metadata": {},
   "source": [
    "Таким чином, враховуючи, що $ \\sigma(Y) < \\sigma(X) $, прийняття рішення на користь випуску і реалізації набору товарів $ Y $ є менш ризиковим і тому більш доцільним."
   ]
  }
 ],
 "metadata": {
  "kernelspec": {
   "display_name": "Python 3 (ipykernel)",
   "language": "python",
   "name": "python3"
  },
  "language_info": {
   "codemirror_mode": {
    "name": "ipython",
    "version": 3
   },
   "file_extension": ".py",
   "mimetype": "text/x-python",
   "name": "python",
   "nbconvert_exporter": "python",
   "pygments_lexer": "ipython3",
   "version": "3.10.8"
  }
 },
 "nbformat": 4,
 "nbformat_minor": 5
}
