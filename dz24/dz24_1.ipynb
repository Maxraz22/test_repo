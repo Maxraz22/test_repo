{
 "cells": [
  {
   "cell_type": "markdown",
   "id": "e8bcce51",
   "metadata": {},
   "source": [
    "# Умова задачі"
   ]
  },
  {
   "cell_type": "markdown",
   "id": "002fbb61",
   "metadata": {},
   "source": [
    "Два економісти заповнюють документи з власними прогнозами щодо курсу певних коштовних паперів, після чого їх складають у спільну папку. Ймовірність відхилення прогнозованого значення курсу від фактичного понад допустиму похибку для першого економіста дорівнює 0,1; для другого - 0,2. Перший економіст заповнив 40 документів, другий - 60. Під час перевірки навмання взятий із папки документ виявився з суттєвою похибкою. Визначити ймовірність того, що його склав перший економіст."
   ]
  },
  {
   "cell_type": "markdown",
   "id": "b20c3d17",
   "metadata": {},
   "source": [
    "# Розв'язок"
   ]
  },
  {
   "cell_type": "markdown",
   "id": "d0d3b379",
   "metadata": {},
   "source": [
    "Подія $ A $ - навмання взятий з папки документ виявився з суттєвою похибкою."
   ]
  },
  {
   "cell_type": "markdown",
   "id": "d5ad41c5",
   "metadata": {},
   "source": [
    "Подія $ A_1 $ - документ із суттєвою похибкою складено першим економістом."
   ]
  },
  {
   "cell_type": "markdown",
   "id": "c50f37b9",
   "metadata": {},
   "source": [
    "Подія $ A_2 $ - документ із суттєвою похибкою складено другим економістом."
   ]
  },
  {
   "cell_type": "markdown",
   "id": "851eb345",
   "metadata": {},
   "source": [
    "Ймовірність того, що документ із суттєвою похибкою склав перший економіст, розрахуємо за формулою Баєса:"
   ]
  },
  {
   "cell_type": "markdown",
   "id": "a2366dec",
   "metadata": {},
   "source": [
    "$ P(A_1|A) = \\cfrac{P(A_1) * P(A|A_1)}{P(A)} $"
   ]
  },
  {
   "cell_type": "markdown",
   "id": "e22214ed",
   "metadata": {},
   "source": [
    "Ймовірність того, що навмання взятий з папки документ виявився з суттєвою похибкою, розрахуємо за формулою повної ймовірності:"
   ]
  },
  {
   "cell_type": "markdown",
   "id": "b39bc5a3",
   "metadata": {},
   "source": [
    "$ P(A) = P(A_1) * P(A|A_1) + P(A_2) * P(A|A_2) $"
   ]
  },
  {
   "cell_type": "code",
   "execution_count": 3,
   "id": "69b77659",
   "metadata": {},
   "outputs": [
    {
     "name": "stdout",
     "output_type": "stream",
     "text": [
      "Ймовірність того, що документ із суттєвою похибкою склав перший економіст: 0.25\n"
     ]
    }
   ],
   "source": [
    "paa1 = 0.1\n",
    "paa2 = 0.2\n",
    "pa1 = 40 / (40 + 60)\n",
    "pa2 = 60 / (40 + 60)\n",
    "pa = pa1 * paa1 + pa2 * paa2\n",
    "pa1a = (pa1 * paa1) / pa\n",
    "print(\"Ймовірність того, що документ із суттєвою похибкою склав перший економіст:\", round(pa1a, 2))"
   ]
  }
 ],
 "metadata": {
  "kernelspec": {
   "display_name": "Python 3 (ipykernel)",
   "language": "python",
   "name": "python3"
  },
  "language_info": {
   "codemirror_mode": {
    "name": "ipython",
    "version": 3
   },
   "file_extension": ".py",
   "mimetype": "text/x-python",
   "name": "python",
   "nbconvert_exporter": "python",
   "pygments_lexer": "ipython3",
   "version": "3.10.8"
  }
 },
 "nbformat": 4,
 "nbformat_minor": 5
}
