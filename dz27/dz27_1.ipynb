{
 "cells": [
  {
   "cell_type": "markdown",
   "id": "69eae49a",
   "metadata": {},
   "source": [
    "# Умова задачі"
   ]
  },
  {
   "cell_type": "markdown",
   "id": "933d003d",
   "metadata": {},
   "source": [
    "Мікропроцесор має 10000 транзисторів, які працюють незалежно один від одного. Імовірність того, що транзистор вийде з ладу під час роботи, є величиною малоймовірною і становить 0,0007. Визначити математичне очікування M(X) і середнє квадратичне відхилення S(X) випадкової величини X числа транзисторів, що вийдуть з ладу під час роботи мікропроцесора."
   ]
  },
  {
   "cell_type": "markdown",
   "id": "3ffd74b4",
   "metadata": {},
   "source": [
    "# Розв'язок"
   ]
  },
  {
   "cell_type": "markdown",
   "id": "4d1c724c",
   "metadata": {},
   "source": [
    "У даному випадку маємо розподіл Пуассона, адже ймовірність настання події $ (p = 0,0007) $ дуже мала, а число випробувань $ (n = 10000) $ - велике: $ n * p = 10000 * 0,0007 = 7 < 10 $"
   ]
  },
  {
   "cell_type": "markdown",
   "id": "55165277",
   "metadata": {},
   "source": [
    "Тому математичне очікування випадкової величини $ X $ числа транзисторів, що вийдуть з ладу під час роботи мікропроцесора $ M(X) = n * p = 10000 * 0,0007 = 7 $"
   ]
  },
  {
   "cell_type": "markdown",
   "id": "1ed0107d",
   "metadata": {},
   "source": [
    "Відповідно дисперсія $ D(X) =  M(X) = 7 $"
   ]
  },
  {
   "cell_type": "markdown",
   "id": "74eb720e",
   "metadata": {},
   "source": [
    "Таким чином, можемо визначити середнє квадратичне відхилення:"
   ]
  },
  {
   "cell_type": "markdown",
   "id": "c573dacc",
   "metadata": {},
   "source": [
    "$ \\sigma_x = \\sqrt{D(X)} = \\sqrt7 = $"
   ]
  },
  {
   "cell_type": "code",
   "execution_count": 3,
   "id": "8af9c3c7",
   "metadata": {},
   "outputs": [
    {
     "data": {
      "text/plain": [
       "2.646"
      ]
     },
     "execution_count": 3,
     "metadata": {},
     "output_type": "execute_result"
    }
   ],
   "source": [
    "round(7**0.5, 3)"
   ]
  }
 ],
 "metadata": {
  "kernelspec": {
   "display_name": "Python 3 (ipykernel)",
   "language": "python",
   "name": "python3"
  },
  "language_info": {
   "codemirror_mode": {
    "name": "ipython",
    "version": 3
   },
   "file_extension": ".py",
   "mimetype": "text/x-python",
   "name": "python",
   "nbconvert_exporter": "python",
   "pygments_lexer": "ipython3",
   "version": "3.10.8"
  }
 },
 "nbformat": 4,
 "nbformat_minor": 5
}
