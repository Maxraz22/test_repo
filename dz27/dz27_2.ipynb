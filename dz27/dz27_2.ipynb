{
 "cells": [
  {
   "cell_type": "markdown",
   "id": "be452269",
   "metadata": {},
   "source": [
    "# Умова задачі"
   ]
  },
  {
   "cell_type": "markdown",
   "id": "351b31fc",
   "metadata": {},
   "source": [
    "У рибальському містечку 99,99% чоловіків хоча б раз були на рибалці. Проводять соціологічні дослідження серед 10000 навмання вибраних чоловіків. Визначити дисперсію D(X) і середнє квадратичне відхилення S(X) випадкової величини X - числа чоловіків, які жодного разу не були на рибалці."
   ]
  },
  {
   "cell_type": "markdown",
   "id": "c653e9fa",
   "metadata": {},
   "source": [
    "# Розв'язок"
   ]
  },
  {
   "cell_type": "markdown",
   "id": "84fa4c14",
   "metadata": {},
   "source": [
    "У даному випадку маємо розподіл Пуассона, адже ймовірність настання події $ (p = ((100 - 99,99)/100) = 0,0001) $ дуже мала, а число випробувань $ (n = 10000) $ - велике: $ n * p = 10000 * 0,0001 = 1 < 10 $"
   ]
  },
  {
   "cell_type": "markdown",
   "id": "e9ebab21",
   "metadata": {},
   "source": [
    "Тому дисперсія випадкової величини $ X $ - числа чоловіків, які жодного разу не були на рибалці:"
   ]
  },
  {
   "cell_type": "markdown",
   "id": "f463005c",
   "metadata": {},
   "source": [
    "$ D(X) =  M(X) = n * p = 10000 * 0,0001 = 1 $"
   ]
  },
  {
   "cell_type": "markdown",
   "id": "bc78c8c0",
   "metadata": {},
   "source": [
    "Таким чином, можемо визначити також середнє квадратичне відхилення:"
   ]
  },
  {
   "cell_type": "markdown",
   "id": "a622386a",
   "metadata": {},
   "source": [
    "$ S(X) = \\sqrt{D(X)} = \\sqrt1 = 1 $"
   ]
  }
 ],
 "metadata": {
  "kernelspec": {
   "display_name": "Python 3 (ipykernel)",
   "language": "python",
   "name": "python3"
  },
  "language_info": {
   "codemirror_mode": {
    "name": "ipython",
    "version": 3
   },
   "file_extension": ".py",
   "mimetype": "text/x-python",
   "name": "python",
   "nbconvert_exporter": "python",
   "pygments_lexer": "ipython3",
   "version": "3.10.8"
  }
 },
 "nbformat": 4,
 "nbformat_minor": 5
}
