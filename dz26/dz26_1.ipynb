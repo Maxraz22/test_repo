{
 "cells": [
  {
   "cell_type": "markdown",
   "id": "ed200189",
   "metadata": {},
   "source": [
    "# Умова задачі"
   ]
  },
  {
   "cell_type": "markdown",
   "id": "743c86da",
   "metadata": {},
   "source": [
    "Ймовірність того, що телевізор витримає гарантійний термін роботи, дорівнює 0,9 для всіх телевізорів, які обслуговує гарантійна майстерня. Оцінити ймовірність того, що число телевізорів, які витримають гарантійний термін роботи, буде в межах [85; 95]."
   ]
  },
  {
   "cell_type": "markdown",
   "id": "d9d20fc0",
   "metadata": {},
   "source": [
    "# Розв'язок"
   ]
  },
  {
   "cell_type": "markdown",
   "id": "b426ef12",
   "metadata": {},
   "source": [
    "$ X $ - число телевізорів, які витримають гарантійний термін роботи; дискретна випадкова величина, яка розподілена за біномним законом розподілу ймовірностей."
   ]
  },
  {
   "cell_type": "markdown",
   "id": "1cfa2802",
   "metadata": {},
   "source": [
    "Для оцінки ймовірності скористаємось нерівністю Чебишова:"
   ]
  },
  {
   "cell_type": "markdown",
   "id": "e10bf698",
   "metadata": {},
   "source": [
    "$ P(|X - M(X)|\\leq\\varepsilon)\\geq 1-\\cfrac{D(X)}{\\varepsilon^2} $"
   ]
  },
  {
   "cell_type": "markdown",
   "id": "e42f8a81",
   "metadata": {},
   "source": [
    "$ M(X) = n * p $"
   ]
  },
  {
   "cell_type": "markdown",
   "id": "a5e91f5e",
   "metadata": {},
   "source": [
    "$ n = 100 $"
   ]
  },
  {
   "cell_type": "markdown",
   "id": "b5803065",
   "metadata": {},
   "source": [
    "$ p = 0,9 $"
   ]
  },
  {
   "cell_type": "markdown",
   "id": "35b6b8de",
   "metadata": {},
   "source": [
    "$ D(X) = n * p * q $"
   ]
  },
  {
   "cell_type": "markdown",
   "id": "13a950ca",
   "metadata": {},
   "source": [
    "$ q = 1 - 0,9 = 0,1 $"
   ]
  },
  {
   "cell_type": "markdown",
   "id": "6fb3ef6c",
   "metadata": {},
   "source": [
    "$ \\varepsilon = |95 - 90| = |85 - 90| = 5 $"
   ]
  },
  {
   "cell_type": "code",
   "execution_count": 1,
   "id": "24231fc8",
   "metadata": {},
   "outputs": [
    {
     "name": "stdout",
     "output_type": "stream",
     "text": [
      "Ймовірність того, що число телевізорів, які витримають гарантійний термін роботи, буде в межах [85; 95], складає не менше, ніж: 0.64\n"
     ]
    }
   ],
   "source": [
    "m = 100 * 0.9\n",
    "d = 100 * 0.9 * 0.1\n",
    "p = 1 - (d/5**2)\n",
    "print(\"Ймовірність того, що число телевізорів, які витримають гарантійний термін роботи, буде в межах [85; 95], складає не менше, ніж:\", p)"
   ]
  }
 ],
 "metadata": {
  "kernelspec": {
   "display_name": "Python 3 (ipykernel)",
   "language": "python",
   "name": "python3"
  },
  "language_info": {
   "codemirror_mode": {
    "name": "ipython",
    "version": 3
   },
   "file_extension": ".py",
   "mimetype": "text/x-python",
   "name": "python",
   "nbconvert_exporter": "python",
   "pygments_lexer": "ipython3",
   "version": "3.10.8"
  }
 },
 "nbformat": 4,
 "nbformat_minor": 5
}
