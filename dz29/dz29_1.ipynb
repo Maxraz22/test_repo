{
 "cells": [
  {
   "cell_type": "markdown",
   "id": "44cb0040",
   "metadata": {},
   "source": [
    "# Умова задачі"
   ]
  },
  {
   "cell_type": "markdown",
   "id": "9d2cc234",
   "metadata": {},
   "source": [
    "Протягом 50 років вимірювався рівень води навесні під час повені відносно умовного нуля. Результати вимірювання наведено у\n",
    "вигляді інтервального статистичного розподілу:"
   ]
  },
  {
   "cell_type": "markdown",
   "id": "9a3789a6",
   "metadata": {},
   "source": [
    "|$x_i$  | 0-24  | 24-48 | 48-72 | 72-96 | 96-120 | 120-144 | 144-168 | 168-192 | 192-216 |\n",
    "|:----: | :---: | :---: | :---: | :---: | :----: | :-----: | :-----: | :-----: | :-----: |\n",
    "|$n_i$  | 1     | 2     | 4     | 6     | 12     | 16      | 6       | 2       | 1       |"
   ]
  },
  {
   "cell_type": "markdown",
   "id": "7842e4e8",
   "metadata": {},
   "source": [
    "За заданими статистичними розподілами вибірки висунути $ H_0 $ про закон розподілу ознаки генеральної сукупності і при рівні значущості $ \\alpha = 0,01 $ перевірити її правильність."
   ]
  },
  {
   "cell_type": "markdown",
   "id": "e41b5b9c",
   "metadata": {},
   "source": [
    "# Розв'язок"
   ]
  },
  {
   "cell_type": "markdown",
   "id": "a82959eb",
   "metadata": {},
   "source": [
    "Гіпотеза $ H_0 $ - генеральна сукупність відповідає закону нормального розподілу."
   ]
  },
  {
   "cell_type": "markdown",
   "id": "94b1d80f",
   "metadata": {},
   "source": [
    "Для перевірки висунутої гіпотези спочатку визначимо середні значення інтервалів $ x_i $ статистичної вибірки:"
   ]
  },
  {
   "cell_type": "markdown",
   "id": "bbd9655a",
   "metadata": {},
   "source": [
    "|$x_i$  |   12  |   36  |   60  |   84  |   108  |   132   |   156   |   180   |   204   |\n",
    "|:---   | :---: | :---: | :---: | :---: | :----: | :-----: | :-----: | :-----: | :-----: |\n",
    "|$n_i$  | 1     | 2     | 4     | 6     | 12     | 16      | 6       | 2       | 1       |"
   ]
  },
  {
   "cell_type": "markdown",
   "id": "9c0a5e01",
   "metadata": {},
   "source": [
    "Обчислимо вибіркове середнє $ \\overline{x_в} $, де $ n =50 $ :"
   ]
  },
  {
   "cell_type": "markdown",
   "id": "5b8a9263",
   "metadata": {},
   "source": [
    "$ \\overline{x_B} = \\cfrac{1}{n} \\sum{x_i * n_i} = $"
   ]
  },
  {
   "cell_type": "code",
   "execution_count": 1,
   "id": "3bd5e965",
   "metadata": {},
   "outputs": [
    {
     "data": {
      "text/plain": [
       "114.72"
      ]
     },
     "execution_count": 1,
     "metadata": {},
     "output_type": "execute_result"
    }
   ],
   "source": [
    "1/50*(12*1 + 36*2 + 60*4 + 84*6 + 108*12 + 132*16 + 156*6 + 180*2 + 204*1)"
   ]
  },
  {
   "cell_type": "markdown",
   "id": "3ac7c08d",
   "metadata": {},
   "source": [
    "Обчислимо дисперсію $ D_в $ та середнє квадратичне відхилення вібірки $ \\sigma_в $:"
   ]
  },
  {
   "cell_type": "markdown",
   "id": "d5d096d1",
   "metadata": {},
   "source": [
    "$ D_в = \\cfrac{1}{n}\\sum{x_i^2 * n_i} - (\\overline{x_в})^2 = $"
   ]
  },
  {
   "cell_type": "code",
   "execution_count": 3,
   "id": "13050bcb",
   "metadata": {},
   "outputs": [
    {
     "data": {
      "text/plain": [
       "1452.44"
      ]
     },
     "execution_count": 3,
     "metadata": {},
     "output_type": "execute_result"
    }
   ],
   "source": [
    "round(1/50*(12**2*1 + 36**2*2 + 60**2*4 + 84**2*6 + 108**2*12 + 132**2*16 + 156**2*6 + 180**2*2 + 204**2*1) - (114.72**2), 2)"
   ]
  },
  {
   "cell_type": "markdown",
   "id": "251d897b",
   "metadata": {},
   "source": [
    "$ \\sigma_в = \\sqrt{D_в} = $"
   ]
  },
  {
   "cell_type": "code",
   "execution_count": 4,
   "id": "412b7a0d",
   "metadata": {},
   "outputs": [
    {
     "data": {
      "text/plain": [
       "38.11"
      ]
     },
     "execution_count": 4,
     "metadata": {},
     "output_type": "execute_result"
    }
   ],
   "source": [
    "round(1452.44**0.5, 2)"
   ]
  },
  {
   "cell_type": "markdown",
   "id": "4b205532",
   "metadata": {},
   "source": [
    "На основі відомих інтервалів $(\\alpha_{𝑖−1}, \\alpha_{i}]$ визначимо інтервали $(z_{𝑖−1}, z_{i}]$:"
   ]
  },
  {
   "cell_type": "markdown",
   "id": "e89e86b7",
   "metadata": {},
   "source": [
    "$z_{𝑖−1} =\\cfrac{\\alpha_{𝑖−1}−\\overline{x_в}}{\\sigma_в}$"
   ]
  },
  {
   "cell_type": "markdown",
   "id": "c76f6adf",
   "metadata": {},
   "source": [
    "$z_{𝑖} =\\cfrac{\\alpha_{𝑖}−\\overline{x_в}}{\\sigma_в} $"
   ]
  },
  {
   "cell_type": "markdown",
   "id": "13808420",
   "metadata": {},
   "source": [
    "При цьому визначаємо, що $ z_0 = −∞ $, а $ z_9 = +∞ $"
   ]
  },
  {
   "cell_type": "markdown",
   "id": "f46a9da3",
   "metadata": {},
   "source": [
    "Тепер обчислимо значення $z_{1}, z_{2}, z_{3}, z_{4}, z_{5}, z_{6}, z_{7}, z_{8} $:"
   ]
  },
  {
   "cell_type": "code",
   "execution_count": 3,
   "id": "fb994c8c",
   "metadata": {},
   "outputs": [
    {
     "name": "stdout",
     "output_type": "stream",
     "text": [
      "[-2.38, -1.75, -1.12, -0.49, 0.14, 0.77, 1.4, 2.03]\n"
     ]
    }
   ],
   "source": [
    "aver_x = 114.72\n",
    "aver_sqr_x = 38.11\n",
    "list_x = [24, 48, 72, 96, 120, 144, 168, 192]\n",
    "list_z = []\n",
    "for i in range(len(list_x)):\n",
    "    z = round((list_x[i] - aver_x)/aver_sqr_x, 2)\n",
    "    list_z.append(z)\n",
    "print(list_z)"
   ]
  },
  {
   "cell_type": "markdown",
   "id": "14cce47c",
   "metadata": {},
   "source": [
    "З таблиці значень функції $\\phi{(z)}$ для інтегральної теореми Муавра-Лапласа знайдемо значення $\\phi{(z_{i-1}})$,  $\\phi{(z_i)}$ та обчислимо теоретичну ймовірность $p_i$ для відповідних значень:"
   ]
  },
  {
   "cell_type": "code",
   "execution_count": 4,
   "id": "b26b92a1",
   "metadata": {},
   "outputs": [
    {
     "name": "stdout",
     "output_type": "stream",
     "text": [
      "[0.0087, 0.0314, 0.0913, 0.1807, 0.2436, 0.2237, 0.1398, 0.0596, 0.0212]\n"
     ]
    }
   ],
   "source": [
    "fi_0 = -0.5\n",
    "fi_1 = -0.4913\n",
    "fi_2 = -0.4599\n",
    "fi_3 = -0.3686\n",
    "fi_4 = -0.1879\n",
    "fi_5 = 0.0557\n",
    "fi_6 = 0.2794\n",
    "fi_7 = 0.4192\n",
    "fi_8 = 0.4788\n",
    "fi_9 = 0.5\n",
    "p = []\n",
    "p.append(round(fi_1-fi_0, 4))\n",
    "p.append(round(fi_2-fi_1, 4))\n",
    "p.append(round(fi_3-fi_2, 4))\n",
    "p.append(round(fi_4-fi_3, 4))\n",
    "p.append(round(fi_5-fi_4, 4))\n",
    "p.append(round(fi_6-fi_5, 4))\n",
    "p.append(round(fi_7-fi_6, 4))\n",
    "p.append(round(fi_8-fi_7, 4))\n",
    "p.append(round(fi_9-fi_8, 4))\n",
    "print(p)"
   ]
  },
  {
   "cell_type": "markdown",
   "id": "fe1bceaa",
   "metadata": {},
   "source": [
    "Пересвідчимось у правильності зроблених розрахунків (сума $p_i$ має дорівнювати $1$):"
   ]
  },
  {
   "cell_type": "code",
   "execution_count": 9,
   "id": "af3254fc",
   "metadata": {
    "scrolled": true
   },
   "outputs": [
    {
     "name": "stdout",
     "output_type": "stream",
     "text": [
      "1.0\n"
     ]
    }
   ],
   "source": [
    "print(round(sum(p), 4))"
   ]
  },
  {
   "cell_type": "markdown",
   "id": "c83167ec",
   "metadata": {},
   "source": [
    "Тепер можемо обчислити теоретичну частоту $\\overline{n_i}$:"
   ]
  },
  {
   "cell_type": "code",
   "execution_count": 19,
   "id": "624d2e9b",
   "metadata": {},
   "outputs": [
    {
     "name": "stdout",
     "output_type": "stream",
     "text": [
      "[0.435, 1.57, 4.565, 9.035, 12.18, 11.185, 6.99, 2.98, 1.06]\n"
     ]
    }
   ],
   "source": [
    "pn = []\n",
    "for i in p:\n",
    "    pn.append(round(i*50, 4))\n",
    "print(pn)"
   ]
  },
  {
   "cell_type": "markdown",
   "id": "4f5c6afe",
   "metadata": {},
   "source": [
    "Пересвідчимось у правильності зроблених розрахунків (сума $n_i$ має дорівнювати $50$):"
   ]
  },
  {
   "cell_type": "code",
   "execution_count": 17,
   "id": "51449d24",
   "metadata": {},
   "outputs": [
    {
     "name": "stdout",
     "output_type": "stream",
     "text": [
      "50.0\n"
     ]
    }
   ],
   "source": [
    "print(round(sum(pn), 0))"
   ]
  },
  {
   "cell_type": "markdown",
   "id": "81caa49e",
   "metadata": {},
   "source": [
    "Отримані результати відобразимо у вигляді таблиці:"
   ]
  },
  {
   "cell_type": "markdown",
   "id": "11e67169",
   "metadata": {},
   "source": [
    "|i  |($z_{i-1}$; $z_i$]|Ф($z_{i-1}$)     |Ф($z_{i}$)    |$p_i$ |$\\overline{n_i}$|\n",
    "|:-:|:----------------:|:---------------:|:------------:|:----:|:--------------:|\n",
    "|1  |(−∞;-2,38]        |-0,5             |-0,4913       |0,087 |0.0             |\n",
    "|2  |(-2,38;-1,75]     |-0,4913          |-0,4599       |0,314 |2.0             |\n",
    "|3  |(-1,75; -1,12]    |-0,4599          |-0,3686       |0,0913|5.0             |\n",
    "|4  |(-1,12; -0,49]    |-0,3686          |-0,1879       |0,1807|9.0             |\n",
    "|5  |(-0,49; 0,14]     |-0,1879          |0,0557        |0,2436|12.0            |\n",
    "|6  |(0,14; 0,77]      |0,0557           |0,2794        |0,2237|11.0            |\n",
    "|7  |(0,77; 1,4]       |0,2794           |0,4192        |0,1398|7.0             |\n",
    "|8  |(1,4; 2,03]       |0,4192           |0,4788        |0,0596|3.0             |\n",
    "|9  |(2,03; +∞)        |0,4788           |0,5           |0,0212|1.0             |"
   ]
  },
  {
   "cell_type": "markdown",
   "id": "3d4e6cb9",
   "metadata": {},
   "source": [
    "Перевіримо висунуту гіпотезу $H_0$ шляхом обчислення емпіричного значення критерію узгодження Пірсона за формулою:"
   ]
  },
  {
   "cell_type": "markdown",
   "id": "27ae8895",
   "metadata": {},
   "source": [
    "$ K_{емп} = \\cfrac{\\displaystyle\\sum_{i=1}^{m}{(n_i - \\overline{n_i})^2}}{\\overline{n_i}} $"
   ]
  },
  {
   "cell_type": "code",
   "execution_count": 29,
   "id": "20fdb073",
   "metadata": {},
   "outputs": [
    {
     "name": "stdout",
     "output_type": "stream",
     "text": [
      "Емпіричне значення критерію узгодження Пірсона: 4.5\n"
     ]
    }
   ],
   "source": [
    "n_exp = [1, 2, 4, 6, 12, 16, 6, 2, 1]\n",
    "k_emp = []\n",
    "for i in range(len(n_theor)):\n",
    "    k_emp.append((n_exp[i] - pn[i])**2/pn[i])\n",
    "print(\"Емпіричне значення критерію узгодження Пірсона:\", round(sum(k_emp), 1))"
   ]
  },
  {
   "cell_type": "markdown",
   "id": "d872a2e2",
   "metadata": {},
   "source": [
    "З таблиці критичних точок розподілу $\\chi^2$ при рівні значущості $ \\alpha = 0,01 $ і кількості ступенів вільності\n",
    "$r = m - s - 1 = 9 - 2 - 1 = 6 $ знаходимо, що $k_{кр} = 16,8.$"
   ]
  },
  {
   "cell_type": "markdown",
   "id": "536fe4d3",
   "metadata": {},
   "source": [
    "Таким чином, $К_{емп} = 4,5, k_{кр} = 16,8 $, отже $ К_{емп} < k_{кр} $ і тому ми приймаємо гіпотезу $ H_0 $ (генеральна сукупність відповідає закону нормального розподілу)."
   ]
  }
 ],
 "metadata": {
  "kernelspec": {
   "display_name": "Python 3 (ipykernel)",
   "language": "python",
   "name": "python3"
  },
  "language_info": {
   "codemirror_mode": {
    "name": "ipython",
    "version": 3
   },
   "file_extension": ".py",
   "mimetype": "text/x-python",
   "name": "python",
   "nbconvert_exporter": "python",
   "pygments_lexer": "ipython3",
   "version": "3.10.8"
  }
 },
 "nbformat": 4,
 "nbformat_minor": 5
}
