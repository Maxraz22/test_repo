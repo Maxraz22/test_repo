{
 "cells": [
  {
   "cell_type": "markdown",
   "id": "4154a235",
   "metadata": {},
   "source": [
    "# Умова задачі"
   ]
  },
  {
   "cell_type": "markdown",
   "id": "217364e6",
   "metadata": {},
   "source": [
    "Випадкова величина $ X $ розподілена рівномірно. Знайти щільність її розподілу, якщо $ P(X\\geq3) = 0,4 $, а математичне сподівання рівне $ M(X)=2 $."
   ]
  },
  {
   "cell_type": "markdown",
   "id": "7e794b2b",
   "metadata": {},
   "source": [
    "# Розв'язок"
   ]
  },
  {
   "cell_type": "markdown",
   "id": "f76ae588",
   "metadata": {},
   "source": [
    "Функція щільності розподілу є сталою величиною на інтервалі $(a; b)$, а поза цим інтервалом - дорівнює нулю:"
   ]
  },
  {
   "cell_type": "markdown",
   "id": "98e79ea1",
   "metadata": {},
   "source": [
    "$f(x) = \\begin{cases} 0, x \\leq a  \\\\ C, a < x \\leq b, \\\\ 0, x > b \\end{cases}\\, C = const = \\cfrac{1}{b-a} $, тому:"
   ]
  },
  {
   "cell_type": "markdown",
   "id": "12283755",
   "metadata": {},
   "source": [
    "$  f(x) = \\begin{cases} 0, x < a \\\\ \\cfrac{1}{b-a}, a \\leq x \\leq b \\\\ 0, x >  b \\end{cases}\\  $"
   ]
  },
  {
   "cell_type": "markdown",
   "id": "9d1c055b",
   "metadata": {},
   "source": [
    "Математичне сподівання випадкової величини $X$ при рівномірному законі розподілу визначаються за формулою:"
   ]
  },
  {
   "cell_type": "markdown",
   "id": "987d9516",
   "metadata": {},
   "source": [
    "$ M(X) = \\cfrac{a + b}{2} $"
   ]
  },
  {
   "cell_type": "markdown",
   "id": "23e000c7",
   "metadata": {},
   "source": [
    "Ймовірність потрапляння випадкової величини $X$, яка має рівномірний розподіл, на проміжок $(\\alpha; \\beta)$, що належить відрізку $(a; b)$:"
   ]
  },
  {
   "cell_type": "markdown",
   "id": "f87520bb",
   "metadata": {},
   "source": [
    " $$P(\\alpha < X < \\beta) = \\int_\\alpha^\\beta\\cfrac{1}{b - a} {dx}= \\cfrac{\\beta-\\alpha}{b-a} = 0,4$$"
   ]
  },
  {
   "cell_type": "markdown",
   "id": "5a5a2d89",
   "metadata": {},
   "source": [
    "Враховуючи, що $\\alpha = 3$, а $\\beta = b$, для знаходження відрізку $(a; b)$ необхідно вирішити систему із двох рівнянь:"
   ]
  },
  {
   "cell_type": "markdown",
   "id": "d2e030a9",
   "metadata": {},
   "source": [
    "$ \\begin{cases} \\cfrac{b-3}{b-a} = 0,4 \\\\ \\cfrac{a+b}{2} = 2 \\end{cases}$ = $\\begin{cases} 0,6b + 0,4a = 3  \\\\ a = 4 - b \\end{cases}$, $a = -3, b = 7.$"
   ]
  },
  {
   "cell_type": "markdown",
   "id": "fcc58470",
   "metadata": {},
   "source": [
    "Таким чином, у даному випадку маємо відповідну щільність розподілу випадкової величини $X$:"
   ]
  },
  {
   "cell_type": "markdown",
   "id": "0510774f",
   "metadata": {},
   "source": [
    "$ f(x)=\\cfrac{1}{b-a}=\\cfrac{1}{7-(-3)} = 0,1 $"
   ]
  },
  {
   "cell_type": "markdown",
   "id": "8fe956cf",
   "metadata": {},
   "source": [
    "$ f(x) = \\begin{cases} 0, x \\leq - 3  \\\\ 0,1, - 3 < x \\leq 7 \\\\ 0, x > 7. \\end{cases} $"
   ]
  }
 ],
 "metadata": {
  "kernelspec": {
   "display_name": "Python 3 (ipykernel)",
   "language": "python",
   "name": "python3"
  },
  "language_info": {
   "codemirror_mode": {
    "name": "ipython",
    "version": 3
   },
   "file_extension": ".py",
   "mimetype": "text/x-python",
   "name": "python",
   "nbconvert_exporter": "python",
   "pygments_lexer": "ipython3",
   "version": "3.10.8"
  }
 },
 "nbformat": 4,
 "nbformat_minor": 5
}
