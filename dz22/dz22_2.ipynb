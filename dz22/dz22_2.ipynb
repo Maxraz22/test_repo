{
 "cells": [
  {
   "cell_type": "markdown",
   "id": "1dc9ce7e",
   "metadata": {},
   "source": [
    "# Умова задачі"
   ]
  },
  {
   "cell_type": "markdown",
   "id": "35ca1489",
   "metadata": {},
   "source": [
    "Вирішіть задачу: Протягом 30 днів вересня було 12 дощових, 8 вітряних, 4 холодних, 5 дощових та вітряних, 3 дощових та холодних, 2 вітряних та холодних, а один день був дощовий, вітряний та холодний одночасно. Скільки днів у вересні була гарна погода? Роботу виконати у середовищі Jupyter Notebook."
   ]
  },
  {
   "cell_type": "markdown",
   "id": "faa0cb82",
   "metadata": {},
   "source": [
    "# Розв'язок"
   ]
  },
  {
   "cell_type": "code",
   "execution_count": 1,
   "id": "01792674",
   "metadata": {
    "scrolled": true
   },
   "outputs": [
    {
     "name": "stdout",
     "output_type": "stream",
     "text": [
      "Кількість днів у вересні, в які була гарна погода: 15\n"
     ]
    }
   ],
   "source": [
    "days_total = 30\n",
    "R = 12\n",
    "W = 8\n",
    "C = 4\n",
    "R_W = 5\n",
    "R_C = 3\n",
    "W_C = 2\n",
    "R_W_C = 1\n",
    "RWC = R + W + C - (R_W + R_C + W_C) + R_W_C\n",
    "days_nice = days_total - RWC\n",
    "print(\"Кількість днів у вересні, в які була гарна погода:\", days_nice)"
   ]
  },
  {
   "cell_type": "markdown",
   "id": "14955585",
   "metadata": {},
   "source": [
    "# Ілюстрація"
   ]
  },
  {
   "cell_type": "markdown",
   "id": "dbd079ae",
   "metadata": {},
   "source": [
    "![Alt text](days.png)"
   ]
  }
 ],
 "metadata": {
  "kernelspec": {
   "display_name": "Python 3 (ipykernel)",
   "language": "python",
   "name": "python3"
  },
  "language_info": {
   "codemirror_mode": {
    "name": "ipython",
    "version": 3
   },
   "file_extension": ".py",
   "mimetype": "text/x-python",
   "name": "python",
   "nbconvert_exporter": "python",
   "pygments_lexer": "ipython3",
   "version": "3.10.8"
  }
 },
 "nbformat": 4,
 "nbformat_minor": 5
}
