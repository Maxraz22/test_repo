{
 "cells": [
  {
   "cell_type": "markdown",
   "id": "2549a774",
   "metadata": {},
   "source": [
    "# Умова задачі"
   ]
  },
  {
   "cell_type": "markdown",
   "id": "1f133b6b",
   "metadata": {},
   "source": [
    "Вирішіть задачу: За підсумками іспитів з 37 студентів відмінну оцінку з математики мали 15 студентів, з фізики – 16, з хімії – 19, з математики та фізики – 7, з математики та хімії – 9, з фізики та хімії – 6, з усіх трьох дисциплін – 4. Скільки студентів отримали хоча б по одній відмінній оцінці? Роботу виконайте у середовищі Jupyter Notebook."
   ]
  },
  {
   "cell_type": "markdown",
   "id": "b713c714",
   "metadata": {},
   "source": [
    "# Розв'язок"
   ]
  },
  {
   "cell_type": "code",
   "execution_count": 5,
   "id": "785bcc5f",
   "metadata": {},
   "outputs": [
    {
     "name": "stdout",
     "output_type": "stream",
     "text": [
      "Кількість студентів, які отримали хоча б по одній відмінній оцінці: 32\n"
     ]
    }
   ],
   "source": [
    "marks_total = 37\n",
    "M = 15\n",
    "P = 16\n",
    "C = 19\n",
    "M_P = 7\n",
    "M_C = 9\n",
    "P_C = 6\n",
    "M_P_C = 4\n",
    "MPC = M + P + C - (M_P + M_C + P_C) + M_P_C\n",
    "print(\"Кількість студентів, які отримали хоча б по одній відмінній оцінці:\", MPC)"
   ]
  },
  {
   "cell_type": "markdown",
   "id": "ce616493",
   "metadata": {},
   "source": [
    "# Ілюстрація"
   ]
  },
  {
   "cell_type": "markdown",
   "id": "5f98bfe9",
   "metadata": {},
   "source": [
    "![Alt text](marks.png)"
   ]
  }
 ],
 "metadata": {
  "kernelspec": {
   "display_name": "Python 3 (ipykernel)",
   "language": "python",
   "name": "python3"
  },
  "language_info": {
   "codemirror_mode": {
    "name": "ipython",
    "version": 3
   },
   "file_extension": ".py",
   "mimetype": "text/x-python",
   "name": "python",
   "nbconvert_exporter": "python",
   "pygments_lexer": "ipython3",
   "version": "3.10.8"
  }
 },
 "nbformat": 4,
 "nbformat_minor": 5
}
