{
 "cells": [
  {
   "cell_type": "markdown",
   "id": "a4b3e9ea",
   "metadata": {},
   "source": [
    "# Завдання"
   ]
  },
  {
   "cell_type": "markdown",
   "id": "6c314108",
   "metadata": {},
   "source": [
    "Створіть свій датасет на основі випадкових даних за допомогою numpy.linspace, та проведіть на ньому лінійну регресію, використовуючи інструменти tensorflow."
   ]
  },
  {
   "cell_type": "markdown",
   "id": "597059ce",
   "metadata": {},
   "source": [
    "# Розв'язок"
   ]
  },
  {
   "cell_type": "code",
   "execution_count": 1,
   "id": "36de18c4",
   "metadata": {},
   "outputs": [],
   "source": [
    "import tensorflow as tf\n",
    "import tensorflow.compat.v1 as tfc\n",
    "import numpy as np\n",
    "import matplotlib.pyplot as plt"
   ]
  },
  {
   "cell_type": "code",
   "execution_count": 2,
   "id": "41cfec04",
   "metadata": {},
   "outputs": [],
   "source": [
    "tfc.disable_eager_execution()"
   ]
  },
  {
   "cell_type": "code",
   "execution_count": 3,
   "id": "32868e08",
   "metadata": {},
   "outputs": [],
   "source": [
    "x = np.linspace(0, 50, 50)\n",
    "y = np.linspace(0, 50, 50)\n",
    "x += np.random.uniform(-4, 4, 50)\n",
    "y += np.random.uniform(-4, 4, 50)"
   ]
  },
  {
   "cell_type": "code",
   "execution_count": 4,
   "id": "dab18f18",
   "metadata": {},
   "outputs": [
    {
     "data": {
      "image/png": "[encoded data removed]",
      "text/plain": [
       "<Figure size 640x480 with 1 Axes>"
      ]
     },
     "metadata": {},
     "output_type": "display_data"
    }
   ],
   "source": [
    "plt.scatter(x, y)\n",
    "plt.xlabel('x')\n",
    "plt.ylabel('y')\n",
    "plt.title(\"Training Data\")\n",
    "plt.show()"
   ]
  },
  {
   "cell_type": "code",
   "execution_count": 5,
   "id": "4815ee18",
   "metadata": {},
   "outputs": [],
   "source": [
    "X = tfc.placeholder(\"float\")\n",
    "Y = tfc.placeholder(\"float\")"
   ]
  },
  {
   "cell_type": "code",
   "execution_count": 7,
   "id": "c522db20",
   "metadata": {},
   "outputs": [],
   "source": [
    "W = tf.Variable(np.random.randn(), name = \"W\")"
   ]
  },
  {
   "cell_type": "code",
   "execution_count": 8,
   "id": "ce0aa7b2",
   "metadata": {},
   "outputs": [],
   "source": [
    "b = tf.Variable(np.random.randn(), name = \"b\")"
   ]
  },
  {
   "cell_type": "code",
   "execution_count": 9,
   "id": "0f501937",
   "metadata": {},
   "outputs": [],
   "source": [
    "y_pred = tf.add(tf.multiply(X, W), b)"
   ]
  },
  {
   "cell_type": "code",
   "execution_count": 10,
   "id": "8ce2bf6d",
   "metadata": {},
   "outputs": [],
   "source": [
    "cost = tf.reduce_sum(tf.pow(y_pred - Y, 2)/(2 * len(x)))"
   ]
  },
  {
   "cell_type": "code",
   "execution_count": 11,
   "id": "07b930c9",
   "metadata": {},
   "outputs": [],
   "source": [
    "learning_rate = 0.01\n",
    "training_epochs = 1000"
   ]
  },
  {
   "cell_type": "code",
   "execution_count": 12,
   "id": "2f41e600",
   "metadata": {},
   "outputs": [],
   "source": [
    "optimizer_gradient = tfc.train.GradientDescentOptimizer(learning_rate).minimize(cost)"
   ]
  },
  {
   "cell_type": "code",
   "execution_count": 13,
   "id": "3c2fcae6",
   "metadata": {},
   "outputs": [],
   "source": [
    "init = tfc.global_variables_initializer()"
   ]
  },
  {
   "cell_type": "code",
   "execution_count": 14,
   "id": "de4d4e26",
   "metadata": {},
   "outputs": [
    {
     "name": "stdout",
     "output_type": "stream",
     "text": [
      "Epoch 50 : cost = 5.4667726 W = 0.9645464 b = -0.2588477\n",
      "Epoch 100 : cost = 5.426919 W = 0.9620214 b = -0.13692866\n",
      "Epoch 150 : cost = 5.3955007 W = 0.9597678 b = -0.028111294\n",
      "Epoch 200 : cost = 5.3707714 W = 0.95775634 b = 0.069012076\n",
      "Epoch 250 : cost = 5.351332 W = 0.9559611 b = 0.1556984\n",
      "Epoch 300 : cost = 5.3360853 W = 0.9543587 b = 0.23306873\n",
      "Epoch 350 : cost = 5.324148 W = 0.9529286 b = 0.30212447\n",
      "Epoch 400 : cost = 5.314827 W = 0.9516521 b = 0.3637597\n",
      "Epoch 450 : cost = 5.307569 W = 0.9505128 b = 0.41877118\n",
      "Epoch 500 : cost = 5.301938 W = 0.9494959 b = 0.46787065\n",
      "Epoch 550 : cost = 5.297585 W = 0.9485884 b = 0.5116939\n",
      "Epoch 600 : cost = 5.2942367 W = 0.9477783 b = 0.5508077\n",
      "Epoch 650 : cost = 5.2916756 W = 0.9470553 b = 0.58571774\n",
      "Epoch 700 : cost = 5.289729 W = 0.94641 b = 0.6168769\n",
      "Epoch 750 : cost = 5.288265 W = 0.94583404 b = 0.64468735\n",
      "Epoch 800 : cost = 5.2871747 W = 0.94532 b = 0.6695076\n",
      "Epoch 850 : cost = 5.2863727 W = 0.9448612 b = 0.69166136\n",
      "Epoch 900 : cost = 5.2857943 W = 0.9444517 b = 0.71143556\n",
      "Epoch 950 : cost = 5.2853866 W = 0.9440862 b = 0.7290842\n",
      "Epoch 1000 : cost = 5.2851114 W = 0.9437599 b = 0.74483585\n"
     ]
    }
   ],
   "source": [
    "# Starting the Tensorflow Session\n",
    "with tfc.Session() as sess:\n",
    "     \n",
    "    # Initializing the Variables\n",
    "    sess.run(init)\n",
    "     \n",
    "    # Iterating through all the epochs\n",
    "    for epoch in range(training_epochs):\n",
    "         \n",
    "        # Feeding each data point into the optimizer using Feed Dictionary\n",
    "        for (_x, _y) in zip(x, y):\n",
    "            sess.run(optimizer_gradient, feed_dict = {X : _x, Y : _y})\n",
    "         \n",
    "        # Displaying the result after every 50 epochs\n",
    "        if (epoch + 1) % 50 == 0:\n",
    "            # Calculating the cost a every epoch\n",
    "            c = sess.run(cost, feed_dict = {X : x, Y : y})\n",
    "            print(\"Epoch\", (epoch + 1), \": cost =\", c, \"W =\", sess.run(W), \"b =\", sess.run(b))\n",
    "     \n",
    "    # Storing necessary values to be used outside the Session\n",
    "    training_cost = sess.run(cost, feed_dict ={X: x, Y: y})\n",
    "    weight = sess.run(W)\n",
    "    bias = sess.run(b)"
   ]
  },
  {
   "cell_type": "code",
   "execution_count": 15,
   "id": "6839aff8",
   "metadata": {},
   "outputs": [
    {
     "name": "stdout",
     "output_type": "stream",
     "text": [
      "Training cost = 5.2851114 Weight = 0.9437599 bias = 0.74483585 \n",
      "\n"
     ]
    }
   ],
   "source": [
    "predictions = weight * x + bias\n",
    "print(\"Training cost =\", \n",
    "      training_cost, \n",
    "      \"Weight =\", weight, \n",
    "      \"bias =\", bias, '\\n')"
   ]
  },
  {
   "cell_type": "code",
   "execution_count": 16,
   "id": "c1548bdb",
   "metadata": {},
   "outputs": [
    {
     "data": {
      "image/png": "[encoded data removed]",
      "text/plain": [
       "<Figure size 640x480 with 1 Axes>"
      ]
     },
     "metadata": {},
     "output_type": "display_data"
    }
   ],
   "source": [
    "plt.plot(x, y, 'ro', label ='Original data')\n",
    "plt.plot(x, predictions, label ='Fitted line')\n",
    "plt.title('Linear Regression Result')\n",
    "plt.legend()\n",
    "plt.show()"
   ]
  }
 ],
 "metadata": {
  "kernelspec": {
   "display_name": "Python 3 (ipykernel)",
   "language": "python",
   "name": "python3"
  },
  "language_info": {
   "codemirror_mode": {
    "name": "ipython",
    "version": 3
   },
   "file_extension": ".py",
   "mimetype": "text/x-python",
   "name": "python",
   "nbconvert_exporter": "python",
   "pygments_lexer": "ipython3",
   "version": "3.10.8"
  }
 },
 "nbformat": 4,
 "nbformat_minor": 5
}
