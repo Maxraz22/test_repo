{
 "cells": [
  {
   "cell_type": "markdown",
   "id": "a8430971",
   "metadata": {},
   "source": [
    "# Завдання"
   ]
  },
  {
   "cell_type": "markdown",
   "id": "130339cc",
   "metadata": {},
   "source": [
    "Використовуючи тренувальний датасет з архіву data.zip та метеріали з додаткових джерел, спробуйте побудувати систему детекції медичних масок на обличчі."
   ]
  },
  {
   "cell_type": "markdown",
   "id": "4776b4a2",
   "metadata": {},
   "source": [
    "# Розв'язок"
   ]
  },
  {
   "cell_type": "code",
   "execution_count": 9,
   "id": "032ca715",
   "metadata": {},
   "outputs": [],
   "source": [
    "import tensorflow as tf\n",
    "from tensorflow.keras.preprocessing.image import ImageDataGenerator"
   ]
  },
  {
   "cell_type": "code",
   "execution_count": 11,
   "id": "12f2ea38",
   "metadata": {},
   "outputs": [
    {
     "name": "stdout",
     "output_type": "stream",
     "text": [
      "Found 1376 images belonging to 2 classes.\n"
     ]
    }
   ],
   "source": [
    "# підготовка даних\n",
    "train_datagen = ImageDataGenerator(rescale=1./255)\n",
    "\n",
    "train_generator = train_datagen.flow_from_directory(\n",
    "    'data',\n",
    "    target_size=(224, 224),\n",
    "    batch_size=32,\n",
    "    class_mode='binary')"
   ]
  },
  {
   "cell_type": "code",
   "execution_count": 12,
   "id": "2f9a3d6a",
   "metadata": {},
   "outputs": [
    {
     "name": "stderr",
     "output_type": "stream",
     "text": [
      "WARNING:absl:`lr` is deprecated in Keras optimizer, please use `learning_rate` or use the legacy optimizer, e.g.,tf.keras.optimizers.legacy.RMSprop.\n"
     ]
    }
   ],
   "source": [
    "# побудова моделі\n",
    "model = tf.keras.models.Sequential([\n",
    "    tf.keras.layers.Conv2D(32, (3,3), activation='relu', input_shape=(224, 224, 3)),\n",
    "    tf.keras.layers.MaxPooling2D(2, 2),\n",
    "    tf.keras.layers.Conv2D(64, (3,3), activation='relu'),\n",
    "    tf.keras.layers.MaxPooling2D(2,2),\n",
    "    tf.keras.layers.Conv2D(128, (3,3), activation='relu'),\n",
    "    tf.keras.layers.MaxPooling2D(2,2),\n",
    "    tf.keras.layers.Conv2D(128, (3,3), activation='relu'),\n",
    "    tf.keras.layers.MaxPooling2D(2,2),\n",
    "    tf.keras.layers.Flatten(),\n",
    "    tf.keras.layers.Dense(512, activation='relu'),\n",
    "    tf.keras.layers.Dense(1, activation='sigmoid')\n",
    "])\n",
    "\n",
    "model.compile(loss='binary_crossentropy',\n",
    "              optimizer=tf.optimizers.RMSprop(lr=1e-4),\n",
    "              metrics=['accuracy'])"
   ]
  },
  {
   "cell_type": "code",
   "execution_count": 13,
   "id": "7dabcded",
   "metadata": {},
   "outputs": [
    {
     "name": "stdout",
     "output_type": "stream",
     "text": [
      "Epoch 1/10\n",
      "43/43 [==============================] - 509s 11s/step - loss: 0.6926 - accuracy: 0.6286\n",
      "Epoch 2/10\n",
      "43/43 [==============================] - 475s 11s/step - loss: 0.2293 - accuracy: 0.9142\n",
      "Epoch 3/10\n",
      "43/43 [==============================] - 473s 11s/step - loss: 0.1517 - accuracy: 0.9491\n",
      "Epoch 4/10\n",
      "43/43 [==============================] - 482s 11s/step - loss: 0.1564 - accuracy: 0.9535\n",
      "Epoch 5/10\n",
      "43/43 [==============================] - 468s 11s/step - loss: 0.1521 - accuracy: 0.9506\n",
      "Epoch 6/10\n",
      "43/43 [==============================] - 467s 11s/step - loss: 0.1469 - accuracy: 0.9600\n",
      "Epoch 7/10\n",
      "43/43 [==============================] - 466s 11s/step - loss: 0.0578 - accuracy: 0.9826\n",
      "Epoch 8/10\n",
      "43/43 [==============================] - 468s 11s/step - loss: 0.0764 - accuracy: 0.9782\n",
      "Epoch 9/10\n",
      "43/43 [==============================] - 467s 11s/step - loss: 0.0513 - accuracy: 0.9811\n",
      "Epoch 10/10\n",
      "43/43 [==============================] - 465s 11s/step - loss: 0.0139 - accuracy: 0.9942\n"
     ]
    },
    {
     "data": {
      "text/plain": [
       "<keras.callbacks.History at 0x18c9484c820>"
      ]
     },
     "execution_count": 13,
     "metadata": {},
     "output_type": "execute_result"
    }
   ],
   "source": [
    "# тренування моделі\n",
    "model.fit(\n",
    "    train_generator,\n",
    "    steps_per_epoch=train_generator.samples/train_generator.batch_size,\n",
    "    epochs=10,\n",
    "    verbose=1)"
   ]
  }
 ],
 "metadata": {
  "kernelspec": {
   "display_name": "Python 3 (ipykernel)",
   "language": "python",
   "name": "python3"
  },
  "language_info": {
   "codemirror_mode": {
    "name": "ipython",
    "version": 3
   },
   "file_extension": ".py",
   "mimetype": "text/x-python",
   "name": "python",
   "nbconvert_exporter": "python",
   "pygments_lexer": "ipython3",
   "version": "3.10.8"
  }
 },
 "nbformat": 4,
 "nbformat_minor": 5
}
