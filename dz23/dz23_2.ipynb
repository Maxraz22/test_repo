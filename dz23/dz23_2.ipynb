{
 "cells": [
  {
   "cell_type": "markdown",
   "id": "ff02835d",
   "metadata": {},
   "source": [
    "# Умова задачі"
   ]
  },
  {
   "cell_type": "markdown",
   "id": "06647524",
   "metadata": {},
   "source": [
    "Для сигналізації про аварію встановлено два незалежно працюючих сигналізатори. Ймовірність того, що при аварії спрацює перший сигналізатор дорівнює 0,95, ця ймовірність для другого сигналізатора дорівнює 0,9. Знайти ймовірність того, що при аварії спрацює: а) хоча б один сигналізатор; б) тільки один сигналізатор."
   ]
  },
  {
   "cell_type": "markdown",
   "id": "d6e9a563",
   "metadata": {},
   "source": [
    "# Розв'язок (a)"
   ]
  },
  {
   "cell_type": "markdown",
   "id": "2dbf265c",
   "metadata": {},
   "source": [
    "Подія А - це спрацювання першого сигналізатора при аварії, подія В - спрацювання другого сигналізатора при аварії. Це незалежні і в той же час - сумісні події. Таким чином, для вирішення задачі застосуємо теорему додавання, а також теорему множення."
   ]
  },
  {
   "cell_type": "markdown",
   "id": "52667d1a",
   "metadata": {},
   "source": [
    "$ P(A + B) = P(A) + P(B) - P(AB) = P(A) + P(B) - P(A) * P(B) $"
   ]
  },
  {
   "cell_type": "markdown",
   "id": "29bb474e",
   "metadata": {},
   "source": [
    "$ P(A) = 0,95 $"
   ]
  },
  {
   "cell_type": "markdown",
   "id": "8c0e5cca",
   "metadata": {},
   "source": [
    "$ P(B) = 0,9 $"
   ]
  },
  {
   "cell_type": "code",
   "execution_count": 1,
   "id": "0a3f9290",
   "metadata": {
    "scrolled": true
   },
   "outputs": [
    {
     "name": "stdout",
     "output_type": "stream",
     "text": [
      "Ймовірність події, за якої при аварії спрацює хоча б один сигналізатор: 0.995\n"
     ]
    }
   ],
   "source": [
    "p1 = 0.95 + 0.9 - 0.95 * 0.9\n",
    "print(\"Ймовірність події, за якої при аварії спрацює хоча б один сигналізатор:\", round(p1, 3))"
   ]
  },
  {
   "cell_type": "markdown",
   "id": "4771eab6",
   "metadata": {},
   "source": [
    "# Розв'язок (б)"
   ]
  },
  {
   "cell_type": "markdown",
   "id": "a3bc7793",
   "metadata": {},
   "source": [
    "Подія С - спрацювання тільки одного сигналізатора при аварії."
   ]
  },
  {
   "cell_type": "markdown",
   "id": "fcd80679",
   "metadata": {},
   "source": [
    "Маємо протилежні події: $\\overline{А}$ - при аварії не спрацює перший сигналізатор, $\\overline{В}$ - при аварії не спрацює другий сигналізатор."
   ]
  },
  {
   "cell_type": "markdown",
   "id": "d5087735",
   "metadata": {},
   "source": [
    "Таким чином, $ P(C) = P(A\\overline{B}) + P(\\overline{A}B) = P(A) * P(\\overline{B}) + P(\\overline{A}) * P(B) $"
   ]
  },
  {
   "cell_type": "markdown",
   "id": "3c3bb48b",
   "metadata": {},
   "source": [
    "Для визначення ймовірності настання протилежних подій застосуємо теорему ймовірності протилежної події:"
   ]
  },
  {
   "cell_type": "markdown",
   "id": "01bb56b1",
   "metadata": {},
   "source": [
    "$ P(\\overline{A}) = 1 - P(A) $"
   ]
  },
  {
   "cell_type": "markdown",
   "id": "a9958424",
   "metadata": {},
   "source": [
    "$ P(\\overline{B}) = 1 - P(B) $"
   ]
  },
  {
   "cell_type": "code",
   "execution_count": 18,
   "id": "970d539f",
   "metadata": {
    "scrolled": true
   },
   "outputs": [
    {
     "name": "stdout",
     "output_type": "stream",
     "text": [
      "Ймовірність події, за якої при аварії спрацює тільки один сигналізатор: 0.14\n"
     ]
    }
   ],
   "source": [
    "p2 = 0.95 * (1 - 0.9) + (1 - 0.95) * 0.9\n",
    "print(\"Ймовірність події, за якої при аварії спрацює тільки один сигналізатор:\", round(p2, 3))"
   ]
  }
 ],
 "metadata": {
  "kernelspec": {
   "display_name": "Python 3 (ipykernel)",
   "language": "python",
   "name": "python3"
  },
  "language_info": {
   "codemirror_mode": {
    "name": "ipython",
    "version": 3
   },
   "file_extension": ".py",
   "mimetype": "text/x-python",
   "name": "python",
   "nbconvert_exporter": "python",
   "pygments_lexer": "ipython3",
   "version": "3.10.8"
  }
 },
 "nbformat": 4,
 "nbformat_minor": 5
}
