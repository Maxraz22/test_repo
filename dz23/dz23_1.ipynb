{
 "cells": [
  {
   "cell_type": "markdown",
   "id": "2f34c796",
   "metadata": {},
   "source": [
    "# Умова задачі"
   ]
  },
  {
   "cell_type": "markdown",
   "id": "7373c1fa",
   "metadata": {},
   "source": [
    "Прилад містить 7 елементів, з яких 3 зношені. При включенні приладу випадковим чином включаються 3 елементи. Знайти ймовірність того, що при цьому виявляться включеними два незношені елементи."
   ]
  },
  {
   "cell_type": "markdown",
   "id": "2c59535a",
   "metadata": {},
   "source": [
    "# Розв'язок"
   ]
  },
  {
   "cell_type": "markdown",
   "id": "3cbd3e01",
   "metadata": {},
   "source": [
    "Ймовірність події А, за якої серед трьох увімкнених випадковим чином елементів виявляться два незношених елементи, розрахуємо за загальною формулою:"
   ]
  },
  {
   "cell_type": "markdown",
   "id": "d9c58097",
   "metadata": {},
   "source": [
    "$ P(A) = \\cfrac{m}{n} $"
   ]
  },
  {
   "cell_type": "markdown",
   "id": "b2fb868c",
   "metadata": {},
   "source": [
    "Для визначення кількості випадків m та n застосуємо формулу для сполучень:"
   ]
  },
  {
   "cell_type": "markdown",
   "id": "7d9443b2",
   "metadata": {},
   "source": [
    "$ C_b ^a = \\cfrac{b!}{a!(b - a)!} $"
   ]
  },
  {
   "cell_type": "markdown",
   "id": "52bb152e",
   "metadata": {},
   "source": [
    "$ n = C_7 ^3 $"
   ]
  },
  {
   "cell_type": "markdown",
   "id": "b80728dc",
   "metadata": {},
   "source": [
    "$ m = C_4 ^2 * C_3 ^1 $"
   ]
  },
  {
   "cell_type": "code",
   "execution_count": 4,
   "id": "6abf798d",
   "metadata": {},
   "outputs": [
    {
     "name": "stdout",
     "output_type": "stream",
     "text": [
      "Ймовірність події, за якої серед трьох увімкнених елементів виявляться два незношених: 0.51\n"
     ]
    }
   ],
   "source": [
    "from math import factorial\n",
    "n = factorial(7)/((factorial(3)) * (factorial(7-3)))\n",
    "m = (factorial(4)/(factorial(2) * factorial(4-2))) * (factorial(3)/(factorial(1) * factorial(3-1)))\n",
    "p = m/n\n",
    "print(\"Ймовірність події, за якої серед трьох увімкнених елементів виявляться два незношених:\", round(p, 2))"
   ]
  }
 ],
 "metadata": {
  "kernelspec": {
   "display_name": "Python 3 (ipykernel)",
   "language": "python",
   "name": "python3"
  },
  "language_info": {
   "codemirror_mode": {
    "name": "ipython",
    "version": 3
   },
   "file_extension": ".py",
   "mimetype": "text/x-python",
   "name": "python",
   "nbconvert_exporter": "python",
   "pygments_lexer": "ipython3",
   "version": "3.10.8"
  }
 },
 "nbformat": 4,
 "nbformat_minor": 5
}
