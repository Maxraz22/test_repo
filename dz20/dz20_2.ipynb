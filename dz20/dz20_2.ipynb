{
 "cells": [
  {
   "cell_type": "code",
   "execution_count": 1,
   "id": "b91ef639",
   "metadata": {},
   "outputs": [],
   "source": [
    "import random\n",
    "from random_words import RandomWords\n",
    "import time\n",
    "\n",
    "int_list = []\n",
    "float_list = []\n",
    "str_list = []\n",
    "\n",
    "w = RandomWords()\n",
    "\n",
    "for i in range(0, 5000):\n",
    "    int_list.append(random.randint(0, 1000))\n",
    "    float_list.append(random.uniform(0.1, 100.0))\n",
    "    str_list.append(w.random_word())\n",
    "\n",
    "def bubble_sort(data):\n",
    "    length = len(data)\n",
    "    for iIndex in range(length):\n",
    "        swapped = False\n",
    "        for jIndex in range(0, length - iIndex - 1):\n",
    "            if data[jIndex] > data[jIndex + 1]:\n",
    "               data[jIndex], data[jIndex + 1] = data[jIndex + 1], data[jIndex]\n",
    "               swapped = True\n",
    "        if not swapped:\n",
    "            break"
   ]
  },
  {
   "cell_type": "code",
   "execution_count": 11,
   "id": "fdaff821",
   "metadata": {},
   "outputs": [
    {
     "name": "stdout",
     "output_type": "stream",
     "text": [
      "Average time of work: 0.6470828294754029\n",
      "Average time of work: 0.0012914180755615235\n",
      "Average time of work: 0.0012692451477050782\n",
      "Average time of work: 0.0\n",
      "Average time of work: 0.0015621662139892578\n",
      "Average time of work: 0.0015617132186889649\n",
      "Average time of work: 0.0015623092651367188\n",
      "Average time of work: 0.0015618324279785157\n",
      "12.6 ms ± 262 µs per loop (mean ± std. dev. of 7 runs, 1 loop each)\n"
     ]
    }
   ],
   "source": [
    "%%timeit\n",
    "def avg_bubble(sort_list, n):\n",
    "    time_list = []\n",
    "    for i in range(n):\n",
    "        start = time.time()\n",
    "        bubble_sort(sort_list)\n",
    "        time_list.append(time.time() - start)\n",
    "    print(\"Average time of work:\", sum(time_list) / n)\n",
    "\n",
    "avg_bubble(int_list, 10)"
   ]
  },
  {
   "cell_type": "code",
   "execution_count": 12,
   "id": "6aaf5c18",
   "metadata": {},
   "outputs": [
    {
     "name": "stdout",
     "output_type": "stream",
     "text": [
      "Average time of work: 0.6012600660324097\n",
      "Average time of work: 0.001562190055847168\n",
      "Average time of work: 0.001561880111694336\n",
      "Average time of work: 0.0\n",
      "Average time of work: 0.001562023162841797\n",
      "Average time of work: 0.0015621423721313477\n",
      "Average time of work: 0.0015618324279785157\n",
      "Average time of work: 0.0\n",
      "12.1 ms ± 315 µs per loop (mean ± std. dev. of 7 runs, 1 loop each)\n"
     ]
    }
   ],
   "source": [
    "%%timeit\n",
    "def avg_bubble(sort_list, n):\n",
    "    time_list = []\n",
    "    for i in range(n):\n",
    "        start = time.time()\n",
    "        bubble_sort(sort_list)\n",
    "        time_list.append(time.time() - start)\n",
    "    print(\"Average time of work:\", sum(time_list) / n)\n",
    "    \n",
    "avg_bubble(float_list, 10)"
   ]
  },
  {
   "cell_type": "code",
   "execution_count": 15,
   "id": "c4113b9a",
   "metadata": {},
   "outputs": [
    {
     "name": "stdout",
     "output_type": "stream",
     "text": [
      "Average time of work: 0.001489710807800293\n",
      "Average time of work: 0.0013902664184570312\n",
      "Average time of work: 0.001589345932006836\n",
      "Average time of work: 0.002781319618225098\n",
      "Average time of work: 0.004140639305114746\n",
      "Average time of work: 0.0021957635879516603\n",
      "Average time of work: 0.0017879247665405274\n",
      "Average time of work: 0.0002629280090332031\n",
      "Average time of work: 0.0015654802322387696\n",
      "Average time of work: 0.001558828353881836\n",
      "Average time of work: 0.0015621185302734375\n",
      "Average time of work: 0.001561880111694336\n",
      "Average time of work: 0.0015619993209838867\n",
      "Average time of work: 0.0015618324279785157\n",
      "Average time of work: 0.0015621423721313477\n",
      "Average time of work: 0.0015620708465576172\n",
      "Average time of work: 0.0\n",
      "Average time of work: 0.001562047004699707\n",
      "Average time of work: 0.0015618562698364257\n",
      "Average time of work: 0.0015619277954101562\n",
      "Average time of work: 0.0015622377395629883\n",
      "Average time of work: 0.0018277406692504884\n",
      "Average time of work: 0.0026230096817016603\n",
      "Average time of work: 0.0016886472702026367\n",
      "Average time of work: 0.00014693737030029296\n",
      "Average time of work: 0.0015624761581420898\n",
      "Average time of work: 0.0015618324279785157\n",
      "Average time of work: 0.0015617847442626954\n",
      "Average time of work: 0.0015617847442626954\n",
      "Average time of work: 0.0015623807907104493\n",
      "Average time of work: 0.0\n",
      "Average time of work: 0.0015619993209838867\n",
      "Average time of work: 0.0015619516372680664\n",
      "Average time of work: 0.0015852928161621093\n",
      "Average time of work: 0.0015624046325683593\n",
      "Average time of work: 0.001562213897705078\n",
      "Average time of work: 0.0\n",
      "Average time of work: 0.0015619516372680664\n",
      "Average time of work: 0.0015617609024047852\n",
      "Average time of work: 0.0015622854232788086\n",
      "Average time of work: 0.0022399187088012694\n",
      "Average time of work: 0.0014483213424682617\n",
      "Average time of work: 0.0027004241943359374\n",
      "Average time of work: 0.0015703439712524414\n",
      "Average time of work: 0.0015624284744262696\n",
      "Average time of work: 0.0\n",
      "Average time of work: 0.0015619039535522462\n",
      "Average time of work: 0.001562190055847168\n",
      "Average time of work: 0.0015619039535522462\n",
      "Average time of work: 0.0015619993209838867\n",
      "Average time of work: 0.0015619754791259765\n",
      "Average time of work: 0.0015617609024047852\n",
      "Average time of work: 0.0008927583694458008\n",
      "Average time of work: 0.001563286781311035\n",
      "Average time of work: 0.0\n",
      "Average time of work: 0.0029274940490722655\n",
      "Average time of work: 0.0014899969100952148\n",
      "Average time of work: 0.003106427192687988\n",
      "Average time of work: 0.003606081008911133\n",
      "Average time of work: 0.0018868446350097656\n",
      "Average time of work: 0.0007587671279907227\n",
      "Average time of work: 0.0015624523162841796\n",
      "Average time of work: 0.001561737060546875\n",
      "Average time of work: 0.0015619516372680664\n",
      "Average time of work: 0.0026824951171875\n",
      "Average time of work: 0.0015893697738647461\n",
      "Average time of work: 0.0008124351501464844\n",
      "Average time of work: 0.0035274744033813475\n",
      "Average time of work: 0.0075559854507446286\n",
      "Average time of work: 0.004320502281188965\n",
      "Average time of work: 0.0023841619491577148\n",
      "Average time of work: 0.001787877082824707\n",
      "Average time of work: 0.001589202880859375\n",
      "Average time of work: 0.0014902830123901367\n",
      "Average time of work: 0.001490020751953125\n",
      "Average time of work: 0.0014900922775268554\n",
      "Average time of work: 0.0013907909393310546\n",
      "Average time of work: 0.0014898061752319336\n",
      "Average time of work: 0.0014900684356689454\n",
      "Average time of work: 0.0014897823333740235\n",
      "Average time of work: 0.0015892982482910156\n",
      "16.9 ms ± 4.45 ms per loop (mean ± std. dev. of 7 runs, 10 loops each)\n"
     ]
    }
   ],
   "source": [
    "%%timeit\n",
    "def avg_bubble(sort_list, n):\n",
    "    time_list = []\n",
    "    for i in range(n):\n",
    "        start = time.time()\n",
    "        bubble_sort(sort_list)\n",
    "        time_list.append(time.time() - start)\n",
    "    print(\"Average time of work:\", sum(time_list) / n)\n",
    "\n",
    "avg_bubble(str_list, 10)"
   ]
  }
 ],
 "metadata": {
  "kernelspec": {
   "display_name": "Python 3 (ipykernel)",
   "language": "python",
   "name": "python3"
  },
  "language_info": {
   "codemirror_mode": {
    "name": "ipython",
    "version": 3
   },
   "file_extension": ".py",
   "mimetype": "text/x-python",
   "name": "python",
   "nbconvert_exporter": "python",
   "pygments_lexer": "ipython3",
   "version": "3.10.8"
  }
 },
 "nbformat": 4,
 "nbformat_minor": 5
}
