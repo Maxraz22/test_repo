{
 "cells": [
  {
   "cell_type": "markdown",
   "id": "e50c7378",
   "metadata": {},
   "source": [
    "# Умова задачі"
   ]
  },
  {
   "cell_type": "markdown",
   "id": "14f3d9b8",
   "metadata": {},
   "source": [
    "Із генеральної сукупності, розподіленої за нормальним законом, отримано вибірку об’ємом $ n = 20 $ "
   ]
  },
  {
   "cell_type": "markdown",
   "id": "d5607418",
   "metadata": {},
   "source": [
    "|$x_i$ |  1   | 2     |4     |6     |7     |\n",
    "|:-----|:----:|:-----:|:----:|:----:|:----:|\n",
    "|$n_i$ |  2   | 3     |10    |3     |2     |"
   ]
  },
  {
   "cell_type": "markdown",
   "id": "debaa61b",
   "metadata": {},
   "source": [
    "Знайти з надійністю $ \\gamma = 0,95 $ інтервальну оцінку для середнього квадратичного відхилення $ \\sigma $ генеральної сукупності."
   ]
  },
  {
   "cell_type": "markdown",
   "id": "65e355e1",
   "metadata": {},
   "source": [
    "# Розв'язок"
   ]
  },
  {
   "cell_type": "markdown",
   "id": "d0df0596",
   "metadata": {},
   "source": [
    "Для оцінки середнього квадратичного відхилення $\\sigma$ нормально розподіленої ознаки $Х$ з надійністю $\\gamma = 0,95$ за виправленим вибірковим середнім квадратичним відхиленням $s$ використаємо довірчий інтервал: "
   ]
  },
  {
   "cell_type": "markdown",
   "id": "558c6f49",
   "metadata": {},
   "source": [
    "$s * (1 - q) < \\sigma < s * (1 + q)$, адже у нашому випадку (з таблиці значень $q(\\gamma, n)$ для $\\gamma = 0,95$ і $n = 20$) $q = 0,37 $, тобто $q < 1$"
   ]
  },
  {
   "cell_type": "markdown",
   "id": "951f7dd5",
   "metadata": {},
   "source": [
    "$ s = \\sqrt{\\cfrac{1}{n-1} * \\displaystyle\\sum_{i=1}^{k}{(x_i - \\overset{-}x_в)^2 * n_i}} $"
   ]
  },
  {
   "cell_type": "markdown",
   "id": "8bb2ed9d",
   "metadata": {},
   "source": [
    "$  \\overset{-}x_в = \\cfrac{1}{n} * \\displaystyle\\sum_{i=1}^{k}{x_i * n_i} = $"
   ]
  },
  {
   "cell_type": "code",
   "execution_count": 1,
   "id": "ff289fa0",
   "metadata": {},
   "outputs": [
    {
     "data": {
      "text/plain": [
       "4.0"
      ]
     },
     "execution_count": 1,
     "metadata": {},
     "output_type": "execute_result"
    }
   ],
   "source": [
    "1/20 * (2*1+2*3+4*10+6*3+7*2)"
   ]
  },
  {
   "cell_type": "markdown",
   "id": "e526dd43",
   "metadata": {},
   "source": [
    "Отже, можемо розрахувати виправлене вибіркове середнє квадратичне відхилення $s$:"
   ]
  },
  {
   "cell_type": "code",
   "execution_count": 4,
   "id": "9f7558bc",
   "metadata": {},
   "outputs": [
    {
     "data": {
      "text/plain": [
       "1.78"
      ]
     },
     "execution_count": 4,
     "metadata": {},
     "output_type": "execute_result"
    }
   ],
   "source": [
    "round(((1/(20-1)) * ((1-4)**2 * 2 + (2-4)**2 * 3 + (4-4)**2 * 10 + (6-4)**2 * 3 + (7-4)**2 * 2))**0.5, 2)"
   ]
  },
  {
   "cell_type": "markdown",
   "id": "30bb9e8b",
   "metadata": {},
   "source": [
    "Обчислимо граничні точки інтервалу:"
   ]
  },
  {
   "cell_type": "markdown",
   "id": "5bc9d997",
   "metadata": {},
   "source": [
    "$ s * (1 - q) = 1,78 * (1 - 0,37) = $"
   ]
  },
  {
   "cell_type": "code",
   "execution_count": 6,
   "id": "4136ebdb",
   "metadata": {},
   "outputs": [
    {
     "data": {
      "text/plain": [
       "1.12"
      ]
     },
     "execution_count": 6,
     "metadata": {},
     "output_type": "execute_result"
    }
   ],
   "source": [
    "round(1.78*(1-0.37), 2)"
   ]
  },
  {
   "cell_type": "markdown",
   "id": "b2799c27",
   "metadata": {},
   "source": [
    "$ s * (1 + q) = 1,78 * (1 + 0,37) = $"
   ]
  },
  {
   "cell_type": "code",
   "execution_count": 7,
   "id": "aa0e94da",
   "metadata": {},
   "outputs": [
    {
     "data": {
      "text/plain": [
       "2.44"
      ]
     },
     "execution_count": 7,
     "metadata": {},
     "output_type": "execute_result"
    }
   ],
   "source": [
    "round(1.78*(1+0.37), 2)"
   ]
  },
  {
   "cell_type": "markdown",
   "id": "b9a4ec28",
   "metadata": {},
   "source": [
    "Таким чином, визначено інтервальну оцінку для середнього квадратичного відхилення:"
   ]
  },
  {
   "cell_type": "markdown",
   "id": "bc55e76d",
   "metadata": {},
   "source": [
    "$ 1,12 < \\sigma < 2,44 $"
   ]
  }
 ],
 "metadata": {
  "kernelspec": {
   "display_name": "Python 3 (ipykernel)",
   "language": "python",
   "name": "python3"
  },
  "language_info": {
   "codemirror_mode": {
    "name": "ipython",
    "version": 3
   },
   "file_extension": ".py",
   "mimetype": "text/x-python",
   "name": "python",
   "nbconvert_exporter": "python",
   "pygments_lexer": "ipython3",
   "version": "3.10.8"
  }
 },
 "nbformat": 4,
 "nbformat_minor": 5
}
