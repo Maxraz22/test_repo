{
 "cells": [
  {
   "cell_type": "markdown",
   "id": "ad52a385",
   "metadata": {},
   "source": [
    "# Умова задачі"
   ]
  },
  {
   "cell_type": "markdown",
   "id": "b7795590",
   "metadata": {},
   "source": [
    "Знайти мінімальний об’єм вибірки, при якому з надійністю $ \\gamma = 0,99 $ точність оцінки математичного сподівання $ a $\n",
    "нормально розподіленої ознаки дорівнює $ \\delta = 0,6 $, якщо середнє квадратичне відхилення $\\sigma = 3 $."
   ]
  },
  {
   "cell_type": "markdown",
   "id": "042880b0",
   "metadata": {},
   "source": [
    "# Розв'язок"
   ]
  },
  {
   "cell_type": "markdown",
   "id": "b23d2f8d",
   "metadata": {},
   "source": [
    "Мінімальний об’єм вибірки має бути не меншим за таке число:"
   ]
  },
  {
   "cell_type": "markdown",
   "id": "045b2b4b",
   "metadata": {},
   "source": [
    "$ n = \\cfrac{t^2 * \\sigma^2}{\\delta^2} $"
   ]
  },
  {
   "cell_type": "markdown",
   "id": "9f9af6c0",
   "metadata": {},
   "source": [
    "Значення $t$ знайдемо із таблиці значень $ \\phi{(t)} $ для інтегральної теореми Муавра-Лапласа:"
   ]
  },
  {
   "cell_type": "markdown",
   "id": "995228aa",
   "metadata": {},
   "source": [
    "$ \\phi{(t)} = \\cfrac{\\gamma}{2} = $"
   ]
  },
  {
   "cell_type": "code",
   "execution_count": 1,
   "id": "f58f219d",
   "metadata": {},
   "outputs": [
    {
     "data": {
      "text/plain": [
       "0.495"
      ]
     },
     "execution_count": 1,
     "metadata": {},
     "output_type": "execute_result"
    }
   ],
   "source": [
    "0.99/2"
   ]
  },
  {
   "cell_type": "markdown",
   "id": "05e6b77e",
   "metadata": {},
   "source": [
    "$ t = 2,58 $"
   ]
  },
  {
   "cell_type": "markdown",
   "id": "3c727da5",
   "metadata": {},
   "source": [
    "Таким чином, визначимо мінімальний об’єм вибірки:"
   ]
  },
  {
   "cell_type": "markdown",
   "id": "851f402e",
   "metadata": {},
   "source": [
    "$ n = \\cfrac{2,58^2 * 3^2}{0,6^2} = $"
   ]
  },
  {
   "cell_type": "code",
   "execution_count": 6,
   "id": "0aabee4f",
   "metadata": {},
   "outputs": [
    {
     "data": {
      "text/plain": [
       "166.0"
      ]
     },
     "execution_count": 6,
     "metadata": {},
     "output_type": "execute_result"
    }
   ],
   "source": [
    "round(2.58**2 * 3**2/0.6**2, 0)"
   ]
  }
 ],
 "metadata": {
  "kernelspec": {
   "display_name": "Python 3 (ipykernel)",
   "language": "python",
   "name": "python3"
  },
  "language_info": {
   "codemirror_mode": {
    "name": "ipython",
    "version": 3
   },
   "file_extension": ".py",
   "mimetype": "text/x-python",
   "name": "python",
   "nbconvert_exporter": "python",
   "pygments_lexer": "ipython3",
   "version": "3.10.8"
  }
 },
 "nbformat": 4,
 "nbformat_minor": 5
}
