{
 "cells": [
  {
   "cell_type": "markdown",
   "id": "cd6703db",
   "metadata": {},
   "source": [
    "# Умова задачі"
   ]
  },
  {
   "cell_type": "markdown",
   "id": "e71770a4",
   "metadata": {},
   "source": [
    "Знайти з надійністю $ \\gamma = 0,95$ інтервальну оцінку для ймовірності настання події $ А $ в кожному із $ n = 100 $ незалежних повторних випробувань, якщо подія відбулась $ m = 40 $ раз."
   ]
  },
  {
   "cell_type": "markdown",
   "id": "7f25dc89",
   "metadata": {},
   "source": [
    "# Розв'язок"
   ]
  },
  {
   "cell_type": "markdown",
   "id": "1ad3a92c",
   "metadata": {},
   "source": [
    "Для оцінки з надійністю $ \\gamma = 0,95$ ймовірності настання події $ А $ в кожному із $ n = 100 $ незалежних випробувань, якщо подія А відбулась $ m = 40 $ раз, використаємо довірчий інтервал:"
   ]
  },
  {
   "cell_type": "markdown",
   "id": "02644f8e",
   "metadata": {},
   "source": [
    "$ p_1 < p < p_2 $, де"
   ]
  },
  {
   "cell_type": "markdown",
   "id": "4f0de0b4",
   "metadata": {},
   "source": [
    "$ p_1 = \\cfrac{1}{t^2 + n} * \\left( m + \\cfrac{t^2}{2} - t * \\sqrt{\\cfrac{m * (n - m)}{n} + \\cfrac{t^2}{4}} \\right) $"
   ]
  },
  {
   "cell_type": "markdown",
   "id": "e38b61a7",
   "metadata": {},
   "source": [
    "$ p_2 = \\cfrac{1}{t^2 + n} * \\left( m + \\cfrac{t^2}{2} + t * \\sqrt{\\cfrac{m * (n - m)}{n} + \\cfrac{t^2}{4}} \\right) $"
   ]
  },
  {
   "cell_type": "markdown",
   "id": "90ce29fd",
   "metadata": {},
   "source": [
    "Значення $t$ знайдемо із таблиці значень $ \\phi{(t)} $ для інтегральної теореми Муавра-Лапласа:"
   ]
  },
  {
   "cell_type": "markdown",
   "id": "481f34fb",
   "metadata": {},
   "source": [
    "$ \\phi{(t)} = \\cfrac{\\gamma}{2} = $"
   ]
  },
  {
   "cell_type": "code",
   "execution_count": 9,
   "id": "846d9fd1",
   "metadata": {},
   "outputs": [
    {
     "data": {
      "text/plain": [
       "0.475"
      ]
     },
     "execution_count": 9,
     "metadata": {},
     "output_type": "execute_result"
    }
   ],
   "source": [
    "0.95/2"
   ]
  },
  {
   "cell_type": "markdown",
   "id": "a9b8d43f",
   "metadata": {},
   "source": [
    "$ t = 1,96 $"
   ]
  },
  {
   "cell_type": "markdown",
   "id": "8f3c526d",
   "metadata": {},
   "source": [
    "Обчислимо граничні точки інтервалу:"
   ]
  },
  {
   "cell_type": "markdown",
   "id": "6404478b",
   "metadata": {},
   "source": [
    "$ p_1 = $"
   ]
  },
  {
   "cell_type": "code",
   "execution_count": 4,
   "id": "12a9da06",
   "metadata": {},
   "outputs": [
    {
     "data": {
      "text/plain": [
       "0.31"
      ]
     },
     "execution_count": 4,
     "metadata": {},
     "output_type": "execute_result"
    }
   ],
   "source": [
    "round(1/(100 + 1.96**2) * (40 + (1.96**2/2) - 1.96*((40*(100-40)/100) + 1.96**2/4)**0.5), 2)"
   ]
  },
  {
   "cell_type": "markdown",
   "id": "ff0d0614",
   "metadata": {},
   "source": [
    "$ p_2 = $"
   ]
  },
  {
   "cell_type": "code",
   "execution_count": 8,
   "id": "6488b17f",
   "metadata": {
    "scrolled": true
   },
   "outputs": [
    {
     "data": {
      "text/plain": [
       "0.5"
      ]
     },
     "execution_count": 8,
     "metadata": {},
     "output_type": "execute_result"
    }
   ],
   "source": [
    "round(1/(100 + 1.96**2) * (40 + (1.96**2/2) + 1.96*((40*(100-40)/100) + 1.96**2/4)**0.5), 2)"
   ]
  },
  {
   "cell_type": "markdown",
   "id": "ebdfe297",
   "metadata": {},
   "source": [
    "Таким чином, визначено інтервальну оцінку для ймовірності настання події $ А $:"
   ]
  },
  {
   "cell_type": "markdown",
   "id": "894548af",
   "metadata": {},
   "source": [
    "$ 0,31 < p < 0,5 $"
   ]
  }
 ],
 "metadata": {
  "kernelspec": {
   "display_name": "Python 3 (ipykernel)",
   "language": "python",
   "name": "python3"
  },
  "language_info": {
   "codemirror_mode": {
    "name": "ipython",
    "version": 3
   },
   "file_extension": ".py",
   "mimetype": "text/x-python",
   "name": "python",
   "nbconvert_exporter": "python",
   "pygments_lexer": "ipython3",
   "version": "3.10.8"
  }
 },
 "nbformat": 4,
 "nbformat_minor": 5
}
