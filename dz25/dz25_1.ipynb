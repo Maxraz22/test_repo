{
 "cells": [
  {
   "cell_type": "markdown",
   "id": "1427cd75",
   "metadata": {},
   "source": [
    "# Умова задачі"
   ]
  },
  {
   "cell_type": "markdown",
   "id": "4dcf7b6b",
   "metadata": {},
   "source": [
    "Ймовірність того, що при перевірці деталь виявиться стандартною, дорівнює 0,6. Перевірці підлягають 3 деталі. Побудувати закон розподілу системи двох дискретних випадкових величин $ X $ - появи числа бракованих деталей і $ Y $ - появи числа стандартних деталей.\n",
    "Обчислити коефіцієнт кореляціі $ r_{xy} $"
   ]
  },
  {
   "cell_type": "markdown",
   "id": "56440545",
   "metadata": {},
   "source": [
    "# Розв'язок"
   ]
  },
  {
   "cell_type": "markdown",
   "id": "da48e846",
   "metadata": {},
   "source": [
    "Подія $ X $ - поява числа бракованих деталей."
   ]
  },
  {
   "cell_type": "markdown",
   "id": "7c548ae5",
   "metadata": {},
   "source": [
    "Подія $ Y $ - поява числа стандартних деталей."
   ]
  },
  {
   "cell_type": "markdown",
   "id": "3520279e",
   "metadata": {},
   "source": [
    "$ P $ - ймовірність того, що при перевірці деталь виявиться бракованою."
   ]
  },
  {
   "cell_type": "markdown",
   "id": "7e0cc967",
   "metadata": {},
   "source": [
    "$ Q $ - ймовірність того, що при перевірці деталь виявиться стандартною."
   ]
  },
  {
   "cell_type": "markdown",
   "id": "9bf8a87d",
   "metadata": {},
   "source": [
    "$ C^m_n * P^m * Q^{n-m} $ - ймовірність того, що із кількості $ n $ взятих деталей виявиться $ m $ стандартних."
   ]
  },
  {
   "cell_type": "markdown",
   "id": "778c2b56",
   "metadata": {},
   "source": [
    "$ P = 0,6; Q = 1 - 0,6 = 0,4 $ "
   ]
  },
  {
   "cell_type": "markdown",
   "id": "ee27b048",
   "metadata": {},
   "source": [
    "Розрахуємо відповідні ймовірності системи двох дискретних випадкових величин $ X, Y $: "
   ]
  },
  {
   "cell_type": "markdown",
   "id": "7d3b69ed",
   "metadata": {},
   "source": [
    "$ P(x_1, y_4) = C^3_3 * p^3 * q^0 = \\cfrac{3!}{3! * (3-3)!} * 0,6^3 * 0,4^0 = $"
   ]
  },
  {
   "cell_type": "code",
   "execution_count": 3,
   "id": "f834b1f3",
   "metadata": {},
   "outputs": [
    {
     "data": {
      "text/plain": [
       "0.216"
      ]
     },
     "execution_count": 3,
     "metadata": {},
     "output_type": "execute_result"
    }
   ],
   "source": [
    "round(0.6**3, 3)"
   ]
  },
  {
   "cell_type": "markdown",
   "id": "a4de5de8",
   "metadata": {},
   "source": [
    "$ P(x_2, y_3) = C^2_3 * p^2 * q^1 = \\cfrac{3!}{2! * (3-2)!} * 0,6^2 * 0,4^1 = $"
   ]
  },
  {
   "cell_type": "code",
   "execution_count": 2,
   "id": "2488ab3b",
   "metadata": {},
   "outputs": [
    {
     "data": {
      "text/plain": [
       "0.432"
      ]
     },
     "execution_count": 2,
     "metadata": {},
     "output_type": "execute_result"
    }
   ],
   "source": [
    "round(3 * 0.6**2 * 0.4, 3)"
   ]
  },
  {
   "cell_type": "markdown",
   "id": "d3220e42",
   "metadata": {},
   "source": [
    "$ P(x_3, y_2) = C^1_3 * p^1 * q^2 = \\cfrac{3!}{1! * (3-1)!} * 0,6^1 * 0,4^2 = $"
   ]
  },
  {
   "cell_type": "code",
   "execution_count": 3,
   "id": "2f362623",
   "metadata": {},
   "outputs": [
    {
     "data": {
      "text/plain": [
       "0.288"
      ]
     },
     "execution_count": 3,
     "metadata": {},
     "output_type": "execute_result"
    }
   ],
   "source": [
    "round(3 * 0.6 * 0.4**2, 3)"
   ]
  },
  {
   "cell_type": "markdown",
   "id": "eea572b5",
   "metadata": {},
   "source": [
    "$ P(x_4, y_1) = C^0_3 * p^0 * q^3 = \\cfrac{3!}{0! * (3-0)!} * 0,6^0 * 0,4^3 = $"
   ]
  },
  {
   "cell_type": "code",
   "execution_count": 4,
   "id": "d592977b",
   "metadata": {},
   "outputs": [
    {
     "data": {
      "text/plain": [
       "0.064"
      ]
     },
     "execution_count": 4,
     "metadata": {},
     "output_type": "execute_result"
    }
   ],
   "source": [
    "round(0.4**3, 3)"
   ]
  },
  {
   "cell_type": "markdown",
   "id": "5d4457ec",
   "metadata": {},
   "source": [
    "$ P(x_1, y_1) = P(x_1, y_2) = P(x_1, y_3) = P(x_2, y_1) = P(x_2, y_2) = P(x_2, y_4) = P(x_3, y_1) = P(x_3, y_3) = P(x_3, y_4) = P(x_4, y_2) = P(x_4, y_3) = P(x_4, y_4) = 0 $"
   ]
  },
  {
   "cell_type": "markdown",
   "id": "d981a32b",
   "metadata": {},
   "source": [
    "Таким чином, можемо побудувати закон розподілу системи двох дискретних випадкових величин $ X, Y $:"
   ]
  },
  {
   "cell_type": "markdown",
   "id": "b68b9d6b",
   "metadata": {},
   "source": [
    "|  Y\\X  | 0        | 1        |2         |3         |  P(Y)  |\n",
    "|:------|:--------:|:--------:|:--------:|:--------:|-------:|\n",
    "|   0   | 0        | 0        | 0        | 0,064    | 0,064  |\n",
    "|   1   | 0        | 0        | 0,288    | 0        | 0,288  |\n",
    "|   2   | 0        | 0,432    | 0        | 0        | 0,432  |\n",
    "|   3   | 0,216    | 0        | 0        | 0        | 0,216  |\n",
    "| P(X)  | 0,216    | 0,432    | 0,288    | 0,064    | 1      |"
   ]
  },
  {
   "cell_type": "markdown",
   "id": "b321fd68",
   "metadata": {},
   "source": [
    "Для обчислення коефіцієнту кореляції спочатку необхідно визначити математичні сподівання дискретних випадкових величин $ X, Y $:"
   ]
  },
  {
   "cell_type": "markdown",
   "id": "9d1ad1b8",
   "metadata": {},
   "source": [
    "$ M(X) = \\displaystyle\\sum_{i=1}^{4} x_i * p_i = $"
   ]
  },
  {
   "cell_type": "code",
   "execution_count": 20,
   "id": "d0c98c61",
   "metadata": {},
   "outputs": [
    {
     "data": {
      "text/plain": [
       "1.2"
      ]
     },
     "execution_count": 20,
     "metadata": {},
     "output_type": "execute_result"
    }
   ],
   "source": [
    "round(0*0.216 + 1*0.432 + 2*0.288 + 3*0.064, 3)"
   ]
  },
  {
   "cell_type": "markdown",
   "id": "f4a8b496",
   "metadata": {},
   "source": [
    "$ M(Y) = \\displaystyle\\sum_{i=1}^{4} y_i * p_i = $"
   ]
  },
  {
   "cell_type": "code",
   "execution_count": 8,
   "id": "53a6f46f",
   "metadata": {},
   "outputs": [
    {
     "data": {
      "text/plain": [
       "1.8"
      ]
     },
     "execution_count": 8,
     "metadata": {},
     "output_type": "execute_result"
    }
   ],
   "source": [
    "round(0*0.064 + 1*0.288 + 2*0.432 + 3*0.216, 3)"
   ]
  },
  {
   "cell_type": "markdown",
   "id": "1f86ec8c",
   "metadata": {},
   "source": [
    "Тепер обчислимо дисперсії дискретних випадкових величин $ X, Y $:"
   ]
  },
  {
   "cell_type": "markdown",
   "id": "4a3d0c08",
   "metadata": {},
   "source": [
    "$ D(X) = M(X^2) - (M(X))^2 = $"
   ]
  },
  {
   "cell_type": "code",
   "execution_count": 19,
   "id": "b6db659d",
   "metadata": {
    "scrolled": true
   },
   "outputs": [
    {
     "data": {
      "text/plain": [
       "0.72"
      ]
     },
     "execution_count": 19,
     "metadata": {},
     "output_type": "execute_result"
    }
   ],
   "source": [
    "round((1 * 0.432 + 2**2 * 0.288 + 3**2 * 0.064) - 1.2**2, 3)"
   ]
  },
  {
   "cell_type": "markdown",
   "id": "d7b6e308",
   "metadata": {},
   "source": [
    "$ D(Y) = M(Y^2) - (M(Y))^2 = $"
   ]
  },
  {
   "cell_type": "code",
   "execution_count": 13,
   "id": "03f67d70",
   "metadata": {},
   "outputs": [
    {
     "data": {
      "text/plain": [
       "0.72"
      ]
     },
     "execution_count": 13,
     "metadata": {},
     "output_type": "execute_result"
    }
   ],
   "source": [
    "round((1 * 0.288 + 4 * 0.432 + 9 * 0.216) - 1.8**2, 3)"
   ]
  },
  {
   "cell_type": "markdown",
   "id": "0063d37f",
   "metadata": {},
   "source": [
    "Середньоквадратичне відхилення дискретних випадкових величин $ X, Y $:"
   ]
  },
  {
   "cell_type": "markdown",
   "id": "4ac81943",
   "metadata": {},
   "source": [
    "$ \\sigma_x = \\sqrt{D(X)} = $"
   ]
  },
  {
   "cell_type": "code",
   "execution_count": 16,
   "id": "d7a876d1",
   "metadata": {},
   "outputs": [
    {
     "data": {
      "text/plain": [
       "0.849"
      ]
     },
     "execution_count": 16,
     "metadata": {},
     "output_type": "execute_result"
    }
   ],
   "source": [
    "round(0.72**0.5, 3)"
   ]
  },
  {
   "cell_type": "markdown",
   "id": "45108ad1",
   "metadata": {},
   "source": [
    "$ \\sigma_y = \\sqrt{D(Y)} = $"
   ]
  },
  {
   "cell_type": "code",
   "execution_count": 17,
   "id": "cb6a48df",
   "metadata": {},
   "outputs": [
    {
     "data": {
      "text/plain": [
       "0.849"
      ]
     },
     "execution_count": 17,
     "metadata": {},
     "output_type": "execute_result"
    }
   ],
   "source": [
    "round(0.72**0.5, 3)"
   ]
  },
  {
   "cell_type": "markdown",
   "id": "9051278d",
   "metadata": {},
   "source": [
    "Коваріація дискретних випадкових величин $ X, Y $:"
   ]
  },
  {
   "cell_type": "markdown",
   "id": "a4d6eb17",
   "metadata": {},
   "source": [
    "$ cov(X,Y) = M(XY) - M(X) * M(Y) = $"
   ]
  },
  {
   "cell_type": "code",
   "execution_count": 23,
   "id": "bd5fe7d3",
   "metadata": {
    "scrolled": true
   },
   "outputs": [
    {
     "data": {
      "text/plain": [
       "-0.72"
      ]
     },
     "execution_count": 23,
     "metadata": {},
     "output_type": "execute_result"
    }
   ],
   "source": [
    "round((0*(0*0+1*0+2*0+0.216) + 1*(0*0+1*0+2*0.432+3*0) + 2*(0*0+1*0.288+2*0+3*0) + 3*(0*0.064+1*0+2*0+3*0) - 1.2*1.8), 3)"
   ]
  },
  {
   "cell_type": "markdown",
   "id": "b21178aa",
   "metadata": {},
   "source": [
    "Таким чином, розрахуємо коефіцієнт кореляції:"
   ]
  },
  {
   "cell_type": "markdown",
   "id": "c6f76306",
   "metadata": {},
   "source": [
    "$ r_{xy} = \\cfrac{cov(X,Y)}{\\sigma_x * \\sigma_y} = $"
   ]
  },
  {
   "cell_type": "code",
   "execution_count": 24,
   "id": "f260b8af",
   "metadata": {},
   "outputs": [
    {
     "data": {
      "text/plain": [
       "-1.0"
      ]
     },
     "execution_count": 24,
     "metadata": {},
     "output_type": "execute_result"
    }
   ],
   "source": [
    "round((-0.72)/(0.8485*0.8485), 3)"
   ]
  },
  {
   "cell_type": "markdown",
   "id": "75113a73",
   "metadata": {},
   "source": [
    "Отже, коефіцієнт кореляції дорівнює $ - 1 $, що є цілком логічним, адже поява події $ X $ виключає появу події $ Y $ і навпаки."
   ]
  }
 ],
 "metadata": {
  "kernelspec": {
   "display_name": "Python 3 (ipykernel)",
   "language": "python",
   "name": "python3"
  },
  "language_info": {
   "codemirror_mode": {
    "name": "ipython",
    "version": 3
   },
   "file_extension": ".py",
   "mimetype": "text/x-python",
   "name": "python",
   "nbconvert_exporter": "python",
   "pygments_lexer": "ipython3",
   "version": "3.10.8"
  }
 },
 "nbformat": 4,
 "nbformat_minor": 5
}
