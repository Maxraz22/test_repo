{
 "cells": [
  {
   "cell_type": "markdown",
   "id": "54370567",
   "metadata": {},
   "source": [
    "# Умова задачі"
   ]
  },
  {
   "cell_type": "markdown",
   "id": "d44a96f1",
   "metadata": {},
   "source": [
    "Розглянемо дві різні умовні акції X і У (таблиця додається). Для кожної з них за допомогою статистичних досліджень були розраховані відносні частоти очікуваних прибутків залежно від п'яти станів економічного середовища: значне піднесення (ЗП), незначне піднесення (НЗП), стагнація (С), незначний спад (НЗС), значний спад (ЗС). Ці дані внесено відповідно в останній рядок і останній стовпчик таблиці. Залежно від економічного середовища прогнозовані норми очікуваних прибутків у відсотках задані відповідно у першому рядку та першому стовпчику таблиці. У клітинках на перетині X і У проставлені ймовірності появи норм відсотків значень (х,у)."
   ]
  },
  {
   "cell_type": "markdown",
   "id": "ba75b947",
   "metadata": {},
   "source": [
    "|Y\\X     |10        |5         |2         |1         |- 5       |P(Y)     |\n",
    "|:-------|:--------:|:--------:|:--------:|:--------:|:--------:|--------:|\n",
    "|20      | 0,01     | 0,03     | 0,02     | 0,03     | 0,01     | 0,1     |\n",
    "|10      | 0,03     | 0,09     | 0,06     | 0,09     | 0,03     | 0,3     |\n",
    "| 2      | 0,02     | 0,06     | 0,04     | 0,06     | 0,02     | 0,2     |\n",
    "|-2      | 0,03     | 0,09     | 0,06     | 0,09     | 0,03     | 0,3     |\n",
    "|-8      | 0,01     | 0,03     | 0,02     | 0,03     | 0,01     | 0,1     |\n",
    "|P(X)    | 0,1      | 0,3      | 0,2      | 0,3      | 0,1      |   1     |"
   ]
  },
  {
   "cell_type": "markdown",
   "id": "a6f39fb4",
   "metadata": {},
   "source": [
    "Необхідно:\n",
    "1) обчислити очікувану норму прибутку по кожній з акцій;\n",
    "2) оцінити ступінь ризику обох акцій за допомогою середньоквадратичного відхилення;\n",
    "3) проаналізувати наявність зв'язку між акціями X та Y за допомогою коефіцієнтів коваріації та кореляції."
   ]
  },
  {
   "cell_type": "markdown",
   "id": "ede70537",
   "metadata": {},
   "source": [
    "# Розв'язок (пункт 1)"
   ]
  },
  {
   "cell_type": "markdown",
   "id": "1df566f3",
   "metadata": {},
   "source": [
    "Очікувана норма прибутку по кожній з акцій фактично є математичним сподіванням дискретних випадкових величин $ 𝑋,𝑌 $:"
   ]
  },
  {
   "cell_type": "markdown",
   "id": "df72f51d",
   "metadata": {},
   "source": [
    "$ M(X) = \\displaystyle\\sum_{i=1}^{5} x_i * p_i = $"
   ]
  },
  {
   "cell_type": "code",
   "execution_count": 3,
   "id": "1e472e45",
   "metadata": {},
   "outputs": [
    {
     "data": {
      "text/plain": [
       "2.7"
      ]
     },
     "execution_count": 3,
     "metadata": {},
     "output_type": "execute_result"
    }
   ],
   "source": [
    "round(10*0.1 + 5*0.3 + 2*0.2 + 1*0.3 - 5*0.1, 3)"
   ]
  },
  {
   "cell_type": "markdown",
   "id": "c22ec847",
   "metadata": {},
   "source": [
    "$ M(Y) = \\displaystyle\\sum_{i=1}^{5} y_i * p_i = $"
   ]
  },
  {
   "cell_type": "code",
   "execution_count": 5,
   "id": "e437f4f6",
   "metadata": {
    "scrolled": false
   },
   "outputs": [
    {
     "data": {
      "text/plain": [
       "4.0"
      ]
     },
     "execution_count": 5,
     "metadata": {},
     "output_type": "execute_result"
    }
   ],
   "source": [
    "round(20*0.1 + 10*0.3 + 2*0.2 - 2*0.3 - 8*0.1, 3)"
   ]
  },
  {
   "cell_type": "markdown",
   "id": "4350dca6",
   "metadata": {},
   "source": [
    "Отже, норма прибутку по акції $ X $ дорівнює $ 2,7 $, а по акції $ Y $ дорівнює $ 4,0 $."
   ]
  },
  {
   "cell_type": "markdown",
   "id": "950d8ff4",
   "metadata": {},
   "source": [
    "# Розв'язок (пункт 2)"
   ]
  },
  {
   "cell_type": "markdown",
   "id": "1e39588b",
   "metadata": {},
   "source": [
    "Для оцінки ступіню ризику обох акцій за допомогою середньоквадратичного відхилення спочатку розрахуємо дисперсії дискретних випадкових величин $ 𝑋,𝑌 $:"
   ]
  },
  {
   "cell_type": "markdown",
   "id": "e0f6e958",
   "metadata": {},
   "source": [
    "$ D(X) = M(X^2) - (M(X))^2 = $"
   ]
  },
  {
   "cell_type": "code",
   "execution_count": 8,
   "id": "1e2fe728",
   "metadata": {},
   "outputs": [
    {
     "data": {
      "text/plain": [
       "13.81"
      ]
     },
     "execution_count": 8,
     "metadata": {},
     "output_type": "execute_result"
    }
   ],
   "source": [
    "round(10**2*0.1 + 5**2*0.3 + 2**2*0.2 + 1*0.3 + (-5)**2*0.1 - 2.7**2, 3)"
   ]
  },
  {
   "cell_type": "markdown",
   "id": "0b0e9977",
   "metadata": {},
   "source": [
    "$ D(Y) = M(Y^2) - (M(Y))^2 = $"
   ]
  },
  {
   "cell_type": "code",
   "execution_count": 10,
   "id": "af51209b",
   "metadata": {},
   "outputs": [
    {
     "data": {
      "text/plain": [
       "62.4"
      ]
     },
     "execution_count": 10,
     "metadata": {},
     "output_type": "execute_result"
    }
   ],
   "source": [
    "round(20**2*0.1 + 10**2*0.3 + 2**2*0.2 + (-2)**2*0.3 + (-8)**2*0.1 - 4**2, 3)"
   ]
  },
  {
   "cell_type": "markdown",
   "id": "5fc00935",
   "metadata": {},
   "source": [
    "$ \\sigma_x = \\sqrt{D(X)} = $"
   ]
  },
  {
   "cell_type": "code",
   "execution_count": 11,
   "id": "4f7355a7",
   "metadata": {},
   "outputs": [
    {
     "data": {
      "text/plain": [
       "3.716"
      ]
     },
     "execution_count": 11,
     "metadata": {},
     "output_type": "execute_result"
    }
   ],
   "source": [
    "round(13.81**0.5, 3)"
   ]
  },
  {
   "cell_type": "markdown",
   "id": "8bf8f8ec",
   "metadata": {},
   "source": [
    "$ \\sigma_y = \\sqrt{D(Y)} = $"
   ]
  },
  {
   "cell_type": "code",
   "execution_count": 12,
   "id": "6dc30476",
   "metadata": {},
   "outputs": [
    {
     "data": {
      "text/plain": [
       "7.899"
      ]
     },
     "execution_count": 12,
     "metadata": {},
     "output_type": "execute_result"
    }
   ],
   "source": [
    "round(62.4**0.5, 3)"
   ]
  },
  {
   "cell_type": "markdown",
   "id": "197abe93",
   "metadata": {},
   "source": [
    "Таким чином, ступінь ризику акції $ X $ є меншим, ніж акції $ Y $, адже $ \\sigma_x < \\sigma_y $."
   ]
  },
  {
   "cell_type": "markdown",
   "id": "a6e8cb1e",
   "metadata": {},
   "source": [
    "# Розв'язок (пункт 3)"
   ]
  },
  {
   "cell_type": "markdown",
   "id": "f430cd4c",
   "metadata": {},
   "source": [
    "Для визначення коефіцієнту коваріації спочатку обчислимо математичне сподівання добутку дискретних випадкових величин $ X, Y $:"
   ]
  },
  {
   "cell_type": "markdown",
   "id": "b034a004",
   "metadata": {},
   "source": [
    "$ M(X*Y) = \\sum{x_i * (y_j * p(x_i, y_j))} = $"
   ]
  },
  {
   "cell_type": "code",
   "execution_count": 14,
   "id": "9ce92b06",
   "metadata": {},
   "outputs": [
    {
     "data": {
      "text/plain": [
       "0.0"
      ]
     },
     "execution_count": 14,
     "metadata": {},
     "output_type": "execute_result"
    }
   ],
   "source": [
    "10*(20*0.01 + 10*0.03 + 2*0.02 - 2*0.03 - 8*0.01) + 5*(20*0.03 + 10*0.09 + 2*0.06 - 2*0.09 - 8*0.03) + 2*(20*0.02 + 10*0.06 +2*0.04 - 2*0.06 - 8*0.02) + 1*(20*0.03 + 10*0.09 + 2*0.06 - 2*0.09 - 8*0.03) - 5*(20*0.01 + 10*0.03 + 2*0.02 - 2*0.03 - 8*0.01) - 2.7*4"
   ]
  },
  {
   "cell_type": "markdown",
   "id": "ec2ee398",
   "metadata": {},
   "source": [
    "Отже, можемо розрахувати коефіцієнт кореляції:"
   ]
  },
  {
   "cell_type": "markdown",
   "id": "75981e19",
   "metadata": {},
   "source": [
    "$ r_{xy} = \\cfrac{cov(X,Y)}{\\sigma_x * \\sigma_y} $"
   ]
  },
  {
   "cell_type": "code",
   "execution_count": 15,
   "id": "1535a33b",
   "metadata": {},
   "outputs": [
    {
     "data": {
      "text/plain": [
       "0.0"
      ]
     },
     "execution_count": 15,
     "metadata": {},
     "output_type": "execute_result"
    }
   ],
   "source": [
    "0/(3.716 * 7.899)"
   ]
  },
  {
   "cell_type": "markdown",
   "id": "0ae1a2ef",
   "metadata": {},
   "source": [
    "Отже, коефіцієнти коваріації та кореляції дорівнюють $ 0 $, що свідчить про відсутність зв'язку між акціями $ X $ та $ Y $."
   ]
  }
 ],
 "metadata": {
  "kernelspec": {
   "display_name": "Python 3 (ipykernel)",
   "language": "python",
   "name": "python3"
  },
  "language_info": {
   "codemirror_mode": {
    "name": "ipython",
    "version": 3
   },
   "file_extension": ".py",
   "mimetype": "text/x-python",
   "name": "python",
   "nbconvert_exporter": "python",
   "pygments_lexer": "ipython3",
   "version": "3.10.8"
  }
 },
 "nbformat": 4,
 "nbformat_minor": 5
}
