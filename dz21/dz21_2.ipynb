{
 "cells": [
  {
   "cell_type": "markdown",
   "id": "9abfe4b5",
   "metadata": {},
   "source": [
    "# Перетворення матриці A в верхню трикутну матрицю"
   ]
  },
  {
   "cell_type": "markdown",
   "id": "aa022bee",
   "metadata": {},
   "source": [
    "![](C:\\Users\\User\\A.png)"
   ]
  },
  {
   "cell_type": "markdown",
   "id": "52825367",
   "metadata": {},
   "source": [
    "![Alt text](A.png)"
   ]
  },
  {
   "cell_type": "code",
   "execution_count": 27,
   "id": "31e94b8e",
   "metadata": {
    "scrolled": true
   },
   "outputs": [
    {
     "name": "stdout",
     "output_type": "stream",
     "text": [
      "[[ 4  2  0]\n",
      " [ 1  3  2]\n",
      " [-1  3 10]]\n"
     ]
    }
   ],
   "source": [
    "import numpy as np\n",
    "A = np.array([[4, 2, 0],\n",
    "                 [1, 3, 2],\n",
    "                 [-1, 3, 10]])\n",
    "print(A)"
   ]
  },
  {
   "cell_type": "markdown",
   "id": "4f7556cf",
   "metadata": {},
   "source": [
    "1. Змінюємо перший та другий рядки місцями."
   ]
  },
  {
   "cell_type": "markdown",
   "id": "1f531e08",
   "metadata": {},
   "source": [
    "![Alt text](A1.png)"
   ]
  },
  {
   "cell_type": "code",
   "execution_count": 5,
   "id": "d43a1402",
   "metadata": {
    "scrolled": true
   },
   "outputs": [
    {
     "name": "stdout",
     "output_type": "stream",
     "text": [
      "[[ 1  3  2]\n",
      " [ 4  2  0]\n",
      " [-1  3 10]]\n"
     ]
    }
   ],
   "source": [
    "A1 = np.array([A[1], A[0], A[2]])\n",
    "print(A1)"
   ]
  },
  {
   "attachments": {},
   "cell_type": "markdown",
   "id": "386ea470",
   "metadata": {},
   "source": [
    "2. До 2-го рядка додати 1-ий, помножений на -4, до 3-го рядка додаємо 1-ий."
   ]
  },
  {
   "cell_type": "markdown",
   "id": "f8f16ed2",
   "metadata": {},
   "source": [
    "![Alt text](A2.png)"
   ]
  },
  {
   "cell_type": "code",
   "execution_count": 15,
   "id": "3a888ce6",
   "metadata": {},
   "outputs": [
    {
     "name": "stdout",
     "output_type": "stream",
     "text": [
      "[[  1   3   2]\n",
      " [  0 -10  -8]\n",
      " [  0   6  12]]\n"
     ]
    }
   ],
   "source": [
    "A2 = np.array([A1[0], A1[1] + A1[0]*(-4), A1[2] + A1[0]])\n",
    "print(A2)"
   ]
  },
  {
   "attachments": {},
   "cell_type": "markdown",
   "id": "f26701a8",
   "metadata": {},
   "source": [
    "3. 2-ий рядок ділимо на -2, 3-ій рядок ділимо на 6."
   ]
  },
  {
   "cell_type": "markdown",
   "id": "0ed0aa35",
   "metadata": {},
   "source": [
    "![Alt text](A3.png)"
   ]
  },
  {
   "cell_type": "code",
   "execution_count": 18,
   "id": "aa2f1c80",
   "metadata": {},
   "outputs": [
    {
     "name": "stdout",
     "output_type": "stream",
     "text": [
      "[[1 3 2]\n",
      " [0 5 4]\n",
      " [0 1 2]]\n"
     ]
    }
   ],
   "source": [
    "A3 = np.array([A2[0], A2[1]/(-2), A2[2]/6], dtype=int)\n",
    "print(A3)"
   ]
  },
  {
   "attachments": {},
   "cell_type": "markdown",
   "id": "2a295b37",
   "metadata": {},
   "source": [
    "4. Змінюємо 2-ий та 3-й рядки місцями."
   ]
  },
  {
   "cell_type": "markdown",
   "id": "1e32a2fb",
   "metadata": {},
   "source": [
    "![Alt text](A4.png)"
   ]
  },
  {
   "cell_type": "code",
   "execution_count": 21,
   "id": "5c309c2f",
   "metadata": {
    "scrolled": true
   },
   "outputs": [
    {
     "name": "stdout",
     "output_type": "stream",
     "text": [
      "[[1 3 2]\n",
      " [0 1 2]\n",
      " [0 5 4]]\n"
     ]
    }
   ],
   "source": [
    "A4 = np.array([A3[0], A3[2], A3[1]])\n",
    "print(A4)"
   ]
  },
  {
   "attachments": {},
   "cell_type": "markdown",
   "id": "9752ddb6",
   "metadata": {},
   "source": [
    "5. До 3-го рядка додаємо 2-ий, помножений на -5. Отримуємо верхню трикутну матрицю."
   ]
  },
  {
   "cell_type": "markdown",
   "id": "28347809",
   "metadata": {},
   "source": [
    "![Alt text](A5.png \"Верхня трикутна матриця\")"
   ]
  },
  {
   "cell_type": "code",
   "execution_count": 28,
   "id": "026a8486",
   "metadata": {},
   "outputs": [
    {
     "name": "stdout",
     "output_type": "stream",
     "text": [
      "[[ 1  3  2]\n",
      " [ 0  1  2]\n",
      " [ 0  0 -6]]\n"
     ]
    }
   ],
   "source": [
    "A5 = np.array([A4[0], A4[1], A4[2] + A4[1]*(-5)])\n",
    "print(A5)"
   ]
  }
 ],
 "metadata": {
  "kernelspec": {
   "display_name": "Python 3 (ipykernel)",
   "language": "python",
   "name": "python3"
  },
  "language_info": {
   "codemirror_mode": {
    "name": "ipython",
    "version": 3
   },
   "file_extension": ".py",
   "mimetype": "text/x-python",
   "name": "python",
   "nbconvert_exporter": "python",
   "pygments_lexer": "ipython3",
   "version": "3.10.8"
  }
 },
 "nbformat": 4,
 "nbformat_minor": 5
}
