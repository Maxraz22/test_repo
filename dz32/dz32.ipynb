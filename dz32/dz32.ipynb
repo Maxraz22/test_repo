{
 "cells": [
  {
   "cell_type": "markdown",
   "id": "58cdea09",
   "metadata": {},
   "source": [
    "# Завдання"
   ]
  },
  {
   "cell_type": "markdown",
   "id": "1e357183",
   "metadata": {},
   "source": [
    "#### 1. Створіть датафрейм розміром 15*5, що містить наступні дані: ####\n",
    "\n",
    "а) ім'я та прізвище студента;\n",
    "\n",
    "б) середній бал;\n",
    "\n",
    "в) оцінка за поточний екзамен;\n",
    "\n",
    "г) кількість спроб здачі поточного екзамену."
   ]
  },
  {
   "cell_type": "markdown",
   "id": "630217ea",
   "metadata": {},
   "source": [
    "#### 2. Додайте до датафрейму стовпчик, що містить дані про допуск студента на наступний курс. ####"
   ]
  },
  {
   "cell_type": "markdown",
   "id": "d8fefd61",
   "metadata": {},
   "source": [
    "#### 3. Виведіть мінімальний, максимальний, середній та медіанний показники середнього балу студентів. ####"
   ]
  },
  {
   "cell_type": "markdown",
   "id": "dacd8294",
   "metadata": {},
   "source": [
    "#### 4. Виведіть кількість студентів, що здали поточний екзамен з першого разу. ####"
   ]
  },
  {
   "cell_type": "markdown",
   "id": "5b5d613b",
   "metadata": {},
   "source": [
    "#### 5. Збережіть будь-які дані з датафрейму у вигляді серії. ####"
   ]
  },
  {
   "cell_type": "markdown",
   "id": "885abe3f",
   "metadata": {},
   "source": [
    "# Розв'язок #"
   ]
  },
  {
   "cell_type": "code",
   "execution_count": 1,
   "id": "1a5813ae",
   "metadata": {},
   "outputs": [],
   "source": [
    "import pandas as pd"
   ]
  },
  {
   "cell_type": "markdown",
   "id": "6005901a",
   "metadata": {},
   "source": [
    "#### 1. Створення датафрейму розміром 15*5: ####"
   ]
  },
  {
   "cell_type": "code",
   "execution_count": 2,
   "id": "4b11cc91",
   "metadata": {
    "scrolled": false
   },
   "outputs": [
    {
     "data": {
      "text/html": [
       "<div>\n",
       "<style scoped>\n",
       "    .dataframe tbody tr th:only-of-type {\n",
       "        vertical-align: middle;\n",
       "    }\n",
       "\n",
       "    .dataframe tbody tr th {\n",
       "        vertical-align: top;\n",
       "    }\n",
       "\n",
       "    .dataframe thead th {\n",
       "        text-align: right;\n",
       "    }\n",
       "</style>\n",
       "<table border=\"1\" class=\"dataframe\">\n",
       "  <thead>\n",
       "    <tr style=\"text-align: right;\">\n",
       "      <th></th>\n",
       "      <th>Прізвище студента</th>\n",
       "      <th>Ім'я студента</th>\n",
       "      <th>Середній бал</th>\n",
       "      <th>Оцінка за поточний екзамен</th>\n",
       "      <th>Кількість спроб здачі поточного екзамену</th>\n",
       "    </tr>\n",
       "  </thead>\n",
       "  <tbody>\n",
       "    <tr>\n",
       "      <th>0</th>\n",
       "      <td>Алдушин</td>\n",
       "      <td>Микита</td>\n",
       "      <td>85.0</td>\n",
       "      <td>80</td>\n",
       "      <td>1</td>\n",
       "    </tr>\n",
       "    <tr>\n",
       "      <th>1</th>\n",
       "      <td>Артеменко</td>\n",
       "      <td>Яна</td>\n",
       "      <td>60.0</td>\n",
       "      <td>62</td>\n",
       "      <td>2</td>\n",
       "    </tr>\n",
       "    <tr>\n",
       "      <th>2</th>\n",
       "      <td>Борисов</td>\n",
       "      <td>Арсеній</td>\n",
       "      <td>90.5</td>\n",
       "      <td>92</td>\n",
       "      <td>1</td>\n",
       "    </tr>\n",
       "    <tr>\n",
       "      <th>3</th>\n",
       "      <td>Бронза</td>\n",
       "      <td>Вікторія</td>\n",
       "      <td>58.0</td>\n",
       "      <td>57</td>\n",
       "      <td>3</td>\n",
       "    </tr>\n",
       "    <tr>\n",
       "      <th>4</th>\n",
       "      <td>Вакулова</td>\n",
       "      <td>Юлія</td>\n",
       "      <td>75.0</td>\n",
       "      <td>74</td>\n",
       "      <td>1</td>\n",
       "    </tr>\n",
       "    <tr>\n",
       "      <th>5</th>\n",
       "      <td>Вінник</td>\n",
       "      <td>Валентин</td>\n",
       "      <td>95.0</td>\n",
       "      <td>98</td>\n",
       "      <td>1</td>\n",
       "    </tr>\n",
       "    <tr>\n",
       "      <th>6</th>\n",
       "      <td>Галенко</td>\n",
       "      <td>Лідія</td>\n",
       "      <td>62.5</td>\n",
       "      <td>63</td>\n",
       "      <td>2</td>\n",
       "    </tr>\n",
       "    <tr>\n",
       "      <th>7</th>\n",
       "      <td>Гокунь</td>\n",
       "      <td>Вікторія</td>\n",
       "      <td>74.0</td>\n",
       "      <td>80</td>\n",
       "      <td>1</td>\n",
       "    </tr>\n",
       "    <tr>\n",
       "      <th>8</th>\n",
       "      <td>Єфімова</td>\n",
       "      <td>Ілля</td>\n",
       "      <td>80.0</td>\n",
       "      <td>90</td>\n",
       "      <td>1</td>\n",
       "    </tr>\n",
       "    <tr>\n",
       "      <th>9</th>\n",
       "      <td>Залізняк</td>\n",
       "      <td>Ольга</td>\n",
       "      <td>65.0</td>\n",
       "      <td>70</td>\n",
       "      <td>2</td>\n",
       "    </tr>\n",
       "    <tr>\n",
       "      <th>10</th>\n",
       "      <td>Ігнатенко</td>\n",
       "      <td>Олександра</td>\n",
       "      <td>90.0</td>\n",
       "      <td>100</td>\n",
       "      <td>1</td>\n",
       "    </tr>\n",
       "    <tr>\n",
       "      <th>11</th>\n",
       "      <td>Кириленко</td>\n",
       "      <td>Єва</td>\n",
       "      <td>55.5</td>\n",
       "      <td>50</td>\n",
       "      <td>3</td>\n",
       "    </tr>\n",
       "    <tr>\n",
       "      <th>12</th>\n",
       "      <td>Киричатий</td>\n",
       "      <td>Ілля</td>\n",
       "      <td>82.0</td>\n",
       "      <td>85</td>\n",
       "      <td>1</td>\n",
       "    </tr>\n",
       "    <tr>\n",
       "      <th>13</th>\n",
       "      <td>Кривошапка</td>\n",
       "      <td>Максим</td>\n",
       "      <td>72.5</td>\n",
       "      <td>80</td>\n",
       "      <td>1</td>\n",
       "    </tr>\n",
       "    <tr>\n",
       "      <th>14</th>\n",
       "      <td>Лушников</td>\n",
       "      <td>Василь</td>\n",
       "      <td>95.0</td>\n",
       "      <td>95</td>\n",
       "      <td>1</td>\n",
       "    </tr>\n",
       "  </tbody>\n",
       "</table>\n",
       "</div>"
      ],
      "text/plain": [
       "   Прізвище студента Ім'я студента  Середній бал  Оцінка за поточний екзамен  \\\n",
       "0            Алдушин        Микита          85.0                          80   \n",
       "1          Артеменко           Яна          60.0                          62   \n",
       "2            Борисов       Арсеній          90.5                          92   \n",
       "3             Бронза      Вікторія          58.0                          57   \n",
       "4           Вакулова          Юлія          75.0                          74   \n",
       "5             Вінник      Валентин          95.0                          98   \n",
       "6            Галенко         Лідія          62.5                          63   \n",
       "7             Гокунь      Вікторія          74.0                          80   \n",
       "8            Єфімова          Ілля          80.0                          90   \n",
       "9           Залізняк         Ольга          65.0                          70   \n",
       "10         Ігнатенко    Олександра          90.0                         100   \n",
       "11         Кириленко           Єва          55.5                          50   \n",
       "12         Киричатий          Ілля          82.0                          85   \n",
       "13        Кривошапка        Максим          72.5                          80   \n",
       "14          Лушников        Василь          95.0                          95   \n",
       "\n",
       "    Кількість спроб здачі поточного екзамену  \n",
       "0                                          1  \n",
       "1                                          2  \n",
       "2                                          1  \n",
       "3                                          3  \n",
       "4                                          1  \n",
       "5                                          1  \n",
       "6                                          2  \n",
       "7                                          1  \n",
       "8                                          1  \n",
       "9                                          2  \n",
       "10                                         1  \n",
       "11                                         3  \n",
       "12                                         1  \n",
       "13                                         1  \n",
       "14                                         1  "
      ]
     },
     "execution_count": 2,
     "metadata": {},
     "output_type": "execute_result"
    }
   ],
   "source": [
    "students = pd.read_excel(\"dz32_dod.xlsx\")\n",
    "students"
   ]
  },
  {
   "cell_type": "code",
   "execution_count": 3,
   "id": "b8430a06",
   "metadata": {
    "scrolled": true
   },
   "outputs": [
    {
     "name": "stdout",
     "output_type": "stream",
     "text": [
      "Розмір виведено датафрейму становить:  (15, 5)\n"
     ]
    }
   ],
   "source": [
    "print(\"Розмір виведено датафрейму становить: \", students.shape)"
   ]
  },
  {
   "cell_type": "markdown",
   "id": "9462f52b",
   "metadata": {},
   "source": [
    "#### 2. Додавання до датафрейму стовпчику: ####"
   ]
  },
  {
   "cell_type": "code",
   "execution_count": 4,
   "id": "ac5e079e",
   "metadata": {},
   "outputs": [
    {
     "data": {
      "text/html": [
       "<div>\n",
       "<style scoped>\n",
       "    .dataframe tbody tr th:only-of-type {\n",
       "        vertical-align: middle;\n",
       "    }\n",
       "\n",
       "    .dataframe tbody tr th {\n",
       "        vertical-align: top;\n",
       "    }\n",
       "\n",
       "    .dataframe thead th {\n",
       "        text-align: right;\n",
       "    }\n",
       "</style>\n",
       "<table border=\"1\" class=\"dataframe\">\n",
       "  <thead>\n",
       "    <tr style=\"text-align: right;\">\n",
       "      <th></th>\n",
       "      <th>Прізвище студента</th>\n",
       "      <th>Ім'я студента</th>\n",
       "      <th>Середній бал</th>\n",
       "      <th>Оцінка за поточний екзамен</th>\n",
       "      <th>Кількість спроб здачі поточного екзамену</th>\n",
       "      <th>Допуск на наступний курс</th>\n",
       "    </tr>\n",
       "  </thead>\n",
       "  <tbody>\n",
       "    <tr>\n",
       "      <th>0</th>\n",
       "      <td>Алдушин</td>\n",
       "      <td>Микита</td>\n",
       "      <td>85.0</td>\n",
       "      <td>80</td>\n",
       "      <td>1</td>\n",
       "      <td>Допуск</td>\n",
       "    </tr>\n",
       "    <tr>\n",
       "      <th>1</th>\n",
       "      <td>Артеменко</td>\n",
       "      <td>Яна</td>\n",
       "      <td>60.0</td>\n",
       "      <td>62</td>\n",
       "      <td>2</td>\n",
       "      <td>Допуск</td>\n",
       "    </tr>\n",
       "    <tr>\n",
       "      <th>2</th>\n",
       "      <td>Борисов</td>\n",
       "      <td>Арсеній</td>\n",
       "      <td>90.5</td>\n",
       "      <td>92</td>\n",
       "      <td>1</td>\n",
       "      <td>Допуск</td>\n",
       "    </tr>\n",
       "    <tr>\n",
       "      <th>3</th>\n",
       "      <td>Бронза</td>\n",
       "      <td>Вікторія</td>\n",
       "      <td>58.0</td>\n",
       "      <td>57</td>\n",
       "      <td>3</td>\n",
       "      <td>Не допуск</td>\n",
       "    </tr>\n",
       "    <tr>\n",
       "      <th>4</th>\n",
       "      <td>Вакулова</td>\n",
       "      <td>Юлія</td>\n",
       "      <td>75.0</td>\n",
       "      <td>74</td>\n",
       "      <td>1</td>\n",
       "      <td>Допуск</td>\n",
       "    </tr>\n",
       "    <tr>\n",
       "      <th>5</th>\n",
       "      <td>Вінник</td>\n",
       "      <td>Валентин</td>\n",
       "      <td>95.0</td>\n",
       "      <td>98</td>\n",
       "      <td>1</td>\n",
       "      <td>Допуск</td>\n",
       "    </tr>\n",
       "    <tr>\n",
       "      <th>6</th>\n",
       "      <td>Галенко</td>\n",
       "      <td>Лідія</td>\n",
       "      <td>62.5</td>\n",
       "      <td>63</td>\n",
       "      <td>2</td>\n",
       "      <td>Допуск</td>\n",
       "    </tr>\n",
       "    <tr>\n",
       "      <th>7</th>\n",
       "      <td>Гокунь</td>\n",
       "      <td>Вікторія</td>\n",
       "      <td>74.0</td>\n",
       "      <td>80</td>\n",
       "      <td>1</td>\n",
       "      <td>Допуск</td>\n",
       "    </tr>\n",
       "    <tr>\n",
       "      <th>8</th>\n",
       "      <td>Єфімова</td>\n",
       "      <td>Ілля</td>\n",
       "      <td>80.0</td>\n",
       "      <td>90</td>\n",
       "      <td>1</td>\n",
       "      <td>Допуск</td>\n",
       "    </tr>\n",
       "    <tr>\n",
       "      <th>9</th>\n",
       "      <td>Залізняк</td>\n",
       "      <td>Ольга</td>\n",
       "      <td>65.0</td>\n",
       "      <td>70</td>\n",
       "      <td>2</td>\n",
       "      <td>Допуск</td>\n",
       "    </tr>\n",
       "    <tr>\n",
       "      <th>10</th>\n",
       "      <td>Ігнатенко</td>\n",
       "      <td>Олександра</td>\n",
       "      <td>90.0</td>\n",
       "      <td>100</td>\n",
       "      <td>1</td>\n",
       "      <td>Допуск</td>\n",
       "    </tr>\n",
       "    <tr>\n",
       "      <th>11</th>\n",
       "      <td>Кириленко</td>\n",
       "      <td>Єва</td>\n",
       "      <td>55.5</td>\n",
       "      <td>50</td>\n",
       "      <td>3</td>\n",
       "      <td>Не допуск</td>\n",
       "    </tr>\n",
       "    <tr>\n",
       "      <th>12</th>\n",
       "      <td>Киричатий</td>\n",
       "      <td>Ілля</td>\n",
       "      <td>82.0</td>\n",
       "      <td>85</td>\n",
       "      <td>1</td>\n",
       "      <td>Допуск</td>\n",
       "    </tr>\n",
       "    <tr>\n",
       "      <th>13</th>\n",
       "      <td>Кривошапка</td>\n",
       "      <td>Максим</td>\n",
       "      <td>72.5</td>\n",
       "      <td>80</td>\n",
       "      <td>1</td>\n",
       "      <td>Допуск</td>\n",
       "    </tr>\n",
       "    <tr>\n",
       "      <th>14</th>\n",
       "      <td>Лушников</td>\n",
       "      <td>Василь</td>\n",
       "      <td>95.0</td>\n",
       "      <td>95</td>\n",
       "      <td>1</td>\n",
       "      <td>Допуск</td>\n",
       "    </tr>\n",
       "  </tbody>\n",
       "</table>\n",
       "</div>"
      ],
      "text/plain": [
       "   Прізвище студента Ім'я студента  Середній бал  Оцінка за поточний екзамен  \\\n",
       "0            Алдушин        Микита          85.0                          80   \n",
       "1          Артеменко           Яна          60.0                          62   \n",
       "2            Борисов       Арсеній          90.5                          92   \n",
       "3             Бронза      Вікторія          58.0                          57   \n",
       "4           Вакулова          Юлія          75.0                          74   \n",
       "5             Вінник      Валентин          95.0                          98   \n",
       "6            Галенко         Лідія          62.5                          63   \n",
       "7             Гокунь      Вікторія          74.0                          80   \n",
       "8            Єфімова          Ілля          80.0                          90   \n",
       "9           Залізняк         Ольга          65.0                          70   \n",
       "10         Ігнатенко    Олександра          90.0                         100   \n",
       "11         Кириленко           Єва          55.5                          50   \n",
       "12         Киричатий          Ілля          82.0                          85   \n",
       "13        Кривошапка        Максим          72.5                          80   \n",
       "14          Лушников        Василь          95.0                          95   \n",
       "\n",
       "    Кількість спроб здачі поточного екзамену Допуск на наступний курс  \n",
       "0                                          1                   Допуск  \n",
       "1                                          2                   Допуск  \n",
       "2                                          1                   Допуск  \n",
       "3                                          3                Не допуск  \n",
       "4                                          1                   Допуск  \n",
       "5                                          1                   Допуск  \n",
       "6                                          2                   Допуск  \n",
       "7                                          1                   Допуск  \n",
       "8                                          1                   Допуск  \n",
       "9                                          2                   Допуск  \n",
       "10                                         1                   Допуск  \n",
       "11                                         3                Не допуск  \n",
       "12                                         1                   Допуск  \n",
       "13                                         1                   Допуск  \n",
       "14                                         1                   Допуск  "
      ]
     },
     "execution_count": 4,
     "metadata": {},
     "output_type": "execute_result"
    }
   ],
   "source": [
    "mean_mark = []\n",
    "for value in students[(\"Середній бал\")]:\n",
    "    if value >= 60:\n",
    "        mean_mark.append(\"Допуск\")\n",
    "    else:\n",
    "        mean_mark.append(\"Не допуск\")\n",
    "students[\"Допуск на наступний курс\"] = mean_mark\n",
    "students"
   ]
  },
  {
   "cell_type": "markdown",
   "id": "97d0780d",
   "metadata": {},
   "source": [
    "#### 3. Виведення мінімального, максимального, середнього та медіанного показників середнього балу студентів: ####"
   ]
  },
  {
   "cell_type": "code",
   "execution_count": 5,
   "id": "c14dbca5",
   "metadata": {},
   "outputs": [
    {
     "data": {
      "text/plain": [
       "min       55.5\n",
       "max       95.0\n",
       "mean      76.0\n",
       "median    75.0\n",
       "Name: Середній бал, dtype: float64"
      ]
     },
     "execution_count": 5,
     "metadata": {},
     "output_type": "execute_result"
    }
   ],
   "source": [
    "students[\"Середній бал\"].agg([\"min\", \"max\", \"mean\", \"median\"])"
   ]
  },
  {
   "cell_type": "markdown",
   "id": "418ba340",
   "metadata": {},
   "source": [
    "#### 4. Виведення кількості студентів, що здали поточний екзамен з першого разу: ####"
   ]
  },
  {
   "cell_type": "code",
   "execution_count": 6,
   "id": "b465782a",
   "metadata": {},
   "outputs": [
    {
     "data": {
      "text/plain": [
       "10"
      ]
     },
     "execution_count": 6,
     "metadata": {},
     "output_type": "execute_result"
    }
   ],
   "source": [
    "len(students[students[\"Кількість спроб здачі поточного екзамену\"] == 1])"
   ]
  },
  {
   "cell_type": "markdown",
   "id": "3718bd12",
   "metadata": {},
   "source": [
    "#### 5. Збереження стовпчика \"Прізвище студента\" з датафрейму у вигляді серії: ####"
   ]
  },
  {
   "cell_type": "code",
   "execution_count": 7,
   "id": "b5f98f85",
   "metadata": {},
   "outputs": [
    {
     "data": {
      "text/plain": [
       "0        Алдушин\n",
       "1      Артеменко\n",
       "2        Борисов\n",
       "3         Бронза\n",
       "4       Вакулова\n",
       "5         Вінник\n",
       "6        Галенко\n",
       "7         Гокунь\n",
       "8        Єфімова\n",
       "9       Залізняк\n",
       "10     Ігнатенко\n",
       "11     Кириленко\n",
       "12     Киричатий\n",
       "13    Кривошапка\n",
       "14      Лушников\n",
       "Name: Прізвище студента, dtype: object"
      ]
     },
     "execution_count": 7,
     "metadata": {},
     "output_type": "execute_result"
    }
   ],
   "source": [
    "last_names = students[(\"Прізвище студента\")]\n",
    "last_names"
   ]
  },
  {
   "cell_type": "code",
   "execution_count": 8,
   "id": "29b0f945",
   "metadata": {},
   "outputs": [
    {
     "name": "stdout",
     "output_type": "stream",
     "text": [
      "<class 'pandas.core.series.Series'>\n"
     ]
    }
   ],
   "source": [
    "print(type(last_names))"
   ]
  }
 ],
 "metadata": {
  "kernelspec": {
   "display_name": "Python 3 (ipykernel)",
   "language": "python",
   "name": "python3"
  },
  "language_info": {
   "codemirror_mode": {
    "name": "ipython",
    "version": 3
   },
   "file_extension": ".py",
   "mimetype": "text/x-python",
   "name": "python",
   "nbconvert_exporter": "python",
   "pygments_lexer": "ipython3",
   "version": "3.10.8"
  }
 },
 "nbformat": 4,
 "nbformat_minor": 5
}
