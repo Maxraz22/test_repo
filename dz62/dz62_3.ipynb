{
  "nbformat": 4,
  "nbformat_minor": 0,
  "metadata": {
    "colab": {
      "provenance": [],
      "toc_visible": true
    },
    "kernelspec": {
      "name": "python3",
      "display_name": "Python 3"
    },
    "language_info": {
      "name": "python"
    }
  },
  "cells": [
    {
      "cell_type": "markdown",
      "source": [
        "# Завдання"
      ],
      "metadata": {
        "id": "Wsdmn0lwLKjq"
      }
    },
    {
      "cell_type": "markdown",
      "source": [
        "Завантажте датасет COFAR-10 та використайте HOG для отримання ознак зображень. Застосуйте будь-який простий класифікатор (наприклад SVM) для класифікації зображень та обчисліть метрики точності, такі як accuracy, precision, recall та F1-score."
      ],
      "metadata": {
        "id": "-B2dfi8Ml5rq"
      }
    },
    {
      "cell_type": "markdown",
      "source": [
        "# Розв'язок"
      ],
      "metadata": {
        "id": "b8-8bzdaopRj"
      }
    },
    {
      "cell_type": "code",
      "source": [
        "import numpy as np\n",
        "import matplotlib.pyplot as plt\n",
        "from sklearn.metrics import accuracy_score, precision_score, recall_score, f1_score\n",
        "from sklearn.svm import LinearSVC\n",
        "from skimage.feature import hog\n",
        "from keras.datasets import cifar10\n",
        "\n",
        "(X_train, y_train), (X_test, y_test) = cifar10.load_data()\n",
        "\n",
        "# перетворення зображень у градації сірого\n",
        "X_train_gray = np.dot(X_train[...,:3], [0.2989, 0.5870, 0.1140])\n",
        "X_test_gray = np.dot(X_test[...,:3], [0.2989, 0.5870, 0.1140])"
      ],
      "metadata": {
        "id": "XUoRgn6XLf5l"
      },
      "execution_count": 7,
      "outputs": []
    },
    {
      "cell_type": "code",
      "source": [
        "# визначення параметрів HOG\n",
        "orientations = 8\n",
        "pixels_per_cell = (8, 8)\n",
        "cells_per_block = (2, 2)\n",
        "\n",
        "# отримання ознак для тренувальної вибірки\n",
        "hog_features_train = []\n",
        "for img in X_train_gray:\n",
        "    hog_features_train.append(hog(img, orientations=orientations, pixels_per_cell=pixels_per_cell, cells_per_block=cells_per_block))\n",
        "hog_features_train = np.array(hog_features_train)\n",
        "\n",
        "# отримання ознак для тестової вибірки\n",
        "hog_features_test = []\n",
        "for img in X_test_gray:\n",
        "    hog_features_test.append(hog(img, orientations=orientations, pixels_per_cell=pixels_per_cell, cells_per_block=cells_per_block))\n",
        "hog_features_test = np.array(hog_features_test)"
      ],
      "metadata": {
        "id": "q9IqfVMrLosm"
      },
      "execution_count": 8,
      "outputs": []
    },
    {
      "cell_type": "code",
      "source": [
        "# навчання класифікатора\n",
        "svm = LinearSVC(random_state=42)\n",
        "svm.fit(hog_features_train, y_train.ravel())\n",
        "\n",
        "# класифікація зображень тестової вибірки\n",
        "y_pred = svm.predict(hog_features_test)"
      ],
      "metadata": {
        "id": "Xs6rGc4zLu2p"
      },
      "execution_count": 9,
      "outputs": []
    },
    {
      "cell_type": "code",
      "source": [
        "# обчислення метрик точності\n",
        "accuracy = accuracy_score(y_test, y_pred)\n",
        "precision = precision_score(y_test, y_pred, average='macro')\n",
        "recall = recall_score(y_test, y_pred, average='macro')\n",
        "f1 = f1_score(y_test, y_pred, average='macro')\n",
        "\n",
        "print(f\"Accuracy: {accuracy:.3f}\")\n",
        "print(f\"Precision: {precision:.3f}\")\n",
        "print(f\"Recall: {recall:.3f}\")\n",
        "print(f\"F1-score: {f1:.3f}\")"
      ],
      "metadata": {
        "colab": {
          "base_uri": "https://localhost:8080/"
        },
        "id": "Y2atsapRLxa0",
        "outputId": "565ea8df-f860-4109-f220-b268295df72e"
      },
      "execution_count": 10,
      "outputs": [
        {
          "output_type": "stream",
          "name": "stdout",
          "text": [
            "Accuracy: 0.509\n",
            "Precision: 0.502\n",
            "Recall: 0.509\n",
            "F1-score: 0.500\n"
          ]
        }
      ]
    }
  ]
}